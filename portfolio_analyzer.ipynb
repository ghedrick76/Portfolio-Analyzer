{
 "cells": [
  {
   "cell_type": "markdown",
   "id": "f50a8ba3-1079-4f9f-b946-3d139efa6693",
   "metadata": {},
   "source": [
    "# Portfolio Analyzer\n",
    "\n",
    "The first segment of this application will allow you to enter the stocks or bonds within your portfolio and their quantities, and returns the portfolio's value.  A simulation is then run on the portfolio to determine the most likely possible outcomes.  You can then compare your portfolio to the wider market."
   ]
  },
  {
   "cell_type": "code",
   "execution_count": 88,
   "id": "365fa41a-e086-44d7-b65e-992d4153c8cd",
   "metadata": {},
   "outputs": [],
   "source": [
    "# Imports required libraries\n",
    "import os\n",
    "import requests\n",
    "import json\n",
    "import pandas as pd\n",
    "from dotenv import load_dotenv\n",
    "import alpaca_trade_api as tradeapi\n",
    "from MCForecastTools import MCSimulation\n",
    "import hvplot.pandas\n",
    "from pathlib import Path\n",
    "import questionary\n",
    "\n",
    "%matplotlib inline"
   ]
  },
  {
   "cell_type": "code",
   "execution_count": 2,
   "id": "66396a9b-09b0-42fb-8a59-84b1a3733522",
   "metadata": {},
   "outputs": [
    {
     "data": {
      "text/plain": [
       "True"
      ]
     },
     "execution_count": 2,
     "metadata": {},
     "output_type": "execute_result"
    }
   ],
   "source": [
    "load_dotenv()"
   ]
  },
  {
   "cell_type": "code",
   "execution_count": 3,
   "id": "ab979fad-97e7-47a3-849f-bfc205a5e755",
   "metadata": {
    "tags": []
   },
   "outputs": [],
   "source": [
    "# Locates and stores keys\n",
    "alpaca_api = os.getenv(\"ALPACA_API_KEY\")\n",
    "alpaca_secret = os.getenv(\"ALPACA_SECRET_KEY\")\n",
    "type(alpaca_api)\n",
    "type(alpaca_secret)\n",
    "\n",
    "# Creates the Alpaca tradeapi.REST object\n",
    "alpaca = tradeapi.REST(\n",
    "    alpaca_api,\n",
    "    alpaca_secret,\n",
    "    api_version=\"v2\"\n",
    ")"
   ]
  },
  {
   "cell_type": "code",
   "execution_count": 4,
   "id": "bede2957-ba32-4934-ab95-00b89a5ea3bf",
   "metadata": {},
   "outputs": [],
   "source": [
    "# Sets timeframe to 1Day\n",
    "timeframe = \"1Day\"\n",
    "\n",
    "# Formats current date as ISO format\n",
    "# You can choose to set both the start and end date at the date of your prior weekday \n",
    "# This will give you the closing price of the previous trading day\n",
    "# Alternatively you could select any arbitrary start/end dates\n",
    "start_date = pd.Timestamp(\"2022-05-12\", tz=\"America/New_York\").isoformat()\n",
    "end_date = pd.Timestamp(\"2022-05-12\", tz=\"America/New_York\").isoformat()"
   ]
  },
  {
   "cell_type": "markdown",
   "id": "cd2e3c97-c6de-4e87-895c-74c4ebc1529d",
   "metadata": {},
   "source": [
    "# Create your portfolio:"
   ]
  },
  {
   "cell_type": "code",
   "execution_count": 5,
   "id": "350c9f7e-2585-49c9-a052-6bb366cef31e",
   "metadata": {},
   "outputs": [
    {
     "name": "stdin",
     "output_type": "stream",
     "text": [
      "Enter your first stock or bond ticker (as it appears on the exchange (example: BBBY))  GME\n",
      "Enter your second ticker. AMC\n",
      "Enter your third ticker. MSFT\n",
      "Enter your fourth ticker. AMZN\n",
      "Enter your fifth ticker. GOOG\n"
     ]
    },
    {
     "name": "stdout",
     "output_type": "stream",
     "text": [
      "The tickers you have selected are: ['GME', 'AMC', 'MSFT', 'AMZN', 'GOOG']\n"
     ]
    }
   ],
   "source": [
    "# Creates the list of tickers that the user will input, and allows for their input\n",
    "\n",
    "tickers = []\n",
    "\n",
    "tickers.append(input(\"Enter your first stock or bond ticker (as it appears on the exchange (example: BBBY)) \"))\n",
    "tickers.append(input(\"Enter your second ticker.\"))\n",
    "tickers.append(input(\"Enter your third ticker.\"))\n",
    "tickers.append(input(\"Enter your fourth ticker.\"))\n",
    "tickers.append(input(\"Enter your fifth ticker.\"))\n",
    "print(f\"The tickers you have selected are: {tickers}\")\n"
   ]
  },
  {
   "cell_type": "code",
   "execution_count": 6,
   "id": "7c48c0af-22e3-4245-b353-31c2f7824fdb",
   "metadata": {},
   "outputs": [
    {
     "data": {
      "text/html": [
       "<div>\n",
       "<style scoped>\n",
       "    .dataframe tbody tr th:only-of-type {\n",
       "        vertical-align: middle;\n",
       "    }\n",
       "\n",
       "    .dataframe tbody tr th {\n",
       "        vertical-align: top;\n",
       "    }\n",
       "\n",
       "    .dataframe thead tr th {\n",
       "        text-align: left;\n",
       "    }\n",
       "\n",
       "    .dataframe thead tr:last-of-type th {\n",
       "        text-align: right;\n",
       "    }\n",
       "</style>\n",
       "<table border=\"1\" class=\"dataframe\">\n",
       "  <thead>\n",
       "    <tr>\n",
       "      <th></th>\n",
       "      <th colspan=\"7\" halign=\"left\">GME</th>\n",
       "      <th colspan=\"3\" halign=\"left\">AMC</th>\n",
       "      <th>...</th>\n",
       "      <th colspan=\"3\" halign=\"left\">AMZN</th>\n",
       "      <th colspan=\"7\" halign=\"left\">GOOG</th>\n",
       "    </tr>\n",
       "    <tr>\n",
       "      <th></th>\n",
       "      <th>open</th>\n",
       "      <th>high</th>\n",
       "      <th>low</th>\n",
       "      <th>close</th>\n",
       "      <th>volume</th>\n",
       "      <th>trade_count</th>\n",
       "      <th>vwap</th>\n",
       "      <th>open</th>\n",
       "      <th>high</th>\n",
       "      <th>low</th>\n",
       "      <th>...</th>\n",
       "      <th>volume</th>\n",
       "      <th>trade_count</th>\n",
       "      <th>vwap</th>\n",
       "      <th>open</th>\n",
       "      <th>high</th>\n",
       "      <th>low</th>\n",
       "      <th>close</th>\n",
       "      <th>volume</th>\n",
       "      <th>trade_count</th>\n",
       "      <th>vwap</th>\n",
       "    </tr>\n",
       "    <tr>\n",
       "      <th>timestamp</th>\n",
       "      <th></th>\n",
       "      <th></th>\n",
       "      <th></th>\n",
       "      <th></th>\n",
       "      <th></th>\n",
       "      <th></th>\n",
       "      <th></th>\n",
       "      <th></th>\n",
       "      <th></th>\n",
       "      <th></th>\n",
       "      <th></th>\n",
       "      <th></th>\n",
       "      <th></th>\n",
       "      <th></th>\n",
       "      <th></th>\n",
       "      <th></th>\n",
       "      <th></th>\n",
       "      <th></th>\n",
       "      <th></th>\n",
       "      <th></th>\n",
       "      <th></th>\n",
       "    </tr>\n",
       "  </thead>\n",
       "  <tbody>\n",
       "    <tr>\n",
       "      <th>2022-05-12 04:00:00+00:00</th>\n",
       "      <td>10.06</td>\n",
       "      <td>13.710</td>\n",
       "      <td>9.70</td>\n",
       "      <td>11.20</td>\n",
       "      <td>104735519</td>\n",
       "      <td>508133</td>\n",
       "      <td>11.457367</td>\n",
       "      <td>10.06</td>\n",
       "      <td>13.710</td>\n",
       "      <td>9.70</td>\n",
       "      <td>...</td>\n",
       "      <td>104735519</td>\n",
       "      <td>508133</td>\n",
       "      <td>11.457367</td>\n",
       "      <td>10.06</td>\n",
       "      <td>13.710</td>\n",
       "      <td>9.70</td>\n",
       "      <td>11.20</td>\n",
       "      <td>104735519</td>\n",
       "      <td>508133</td>\n",
       "      <td>11.457367</td>\n",
       "    </tr>\n",
       "    <tr>\n",
       "      <th>2022-05-12 04:00:00+00:00</th>\n",
       "      <td>2055.00</td>\n",
       "      <td>2215.615</td>\n",
       "      <td>2048.11</td>\n",
       "      <td>2138.61</td>\n",
       "      <td>6574160</td>\n",
       "      <td>358551</td>\n",
       "      <td>2129.391018</td>\n",
       "      <td>2055.00</td>\n",
       "      <td>2215.615</td>\n",
       "      <td>2048.11</td>\n",
       "      <td>...</td>\n",
       "      <td>6574160</td>\n",
       "      <td>358551</td>\n",
       "      <td>2129.391018</td>\n",
       "      <td>2055.00</td>\n",
       "      <td>2215.615</td>\n",
       "      <td>2048.11</td>\n",
       "      <td>2138.61</td>\n",
       "      <td>6574160</td>\n",
       "      <td>358551</td>\n",
       "      <td>2129.391018</td>\n",
       "    </tr>\n",
       "    <tr>\n",
       "      <th>2022-05-12 04:00:00+00:00</th>\n",
       "      <td>83.04</td>\n",
       "      <td>108.060</td>\n",
       "      <td>77.77</td>\n",
       "      <td>89.57</td>\n",
       "      <td>10023560</td>\n",
       "      <td>186854</td>\n",
       "      <td>91.085635</td>\n",
       "      <td>83.04</td>\n",
       "      <td>108.060</td>\n",
       "      <td>77.77</td>\n",
       "      <td>...</td>\n",
       "      <td>10023560</td>\n",
       "      <td>186854</td>\n",
       "      <td>91.085635</td>\n",
       "      <td>83.04</td>\n",
       "      <td>108.060</td>\n",
       "      <td>77.77</td>\n",
       "      <td>89.57</td>\n",
       "      <td>10023560</td>\n",
       "      <td>186854</td>\n",
       "      <td>91.085635</td>\n",
       "    </tr>\n",
       "    <tr>\n",
       "      <th>2022-05-12 04:00:00+00:00</th>\n",
       "      <td>2240.00</td>\n",
       "      <td>2297.130</td>\n",
       "      <td>2202.27</td>\n",
       "      <td>2263.22</td>\n",
       "      <td>2055927</td>\n",
       "      <td>120731</td>\n",
       "      <td>2250.036001</td>\n",
       "      <td>2240.00</td>\n",
       "      <td>2297.130</td>\n",
       "      <td>2202.27</td>\n",
       "      <td>...</td>\n",
       "      <td>2055927</td>\n",
       "      <td>120731</td>\n",
       "      <td>2250.036001</td>\n",
       "      <td>2240.00</td>\n",
       "      <td>2297.130</td>\n",
       "      <td>2202.27</td>\n",
       "      <td>2263.22</td>\n",
       "      <td>2055927</td>\n",
       "      <td>120731</td>\n",
       "      <td>2250.036001</td>\n",
       "    </tr>\n",
       "    <tr>\n",
       "      <th>2022-05-12 04:00:00+00:00</th>\n",
       "      <td>257.32</td>\n",
       "      <td>259.880</td>\n",
       "      <td>250.02</td>\n",
       "      <td>255.35</td>\n",
       "      <td>50675646</td>\n",
       "      <td>709263</td>\n",
       "      <td>254.769493</td>\n",
       "      <td>257.32</td>\n",
       "      <td>259.880</td>\n",
       "      <td>250.02</td>\n",
       "      <td>...</td>\n",
       "      <td>50675646</td>\n",
       "      <td>709263</td>\n",
       "      <td>254.769493</td>\n",
       "      <td>257.32</td>\n",
       "      <td>259.880</td>\n",
       "      <td>250.02</td>\n",
       "      <td>255.35</td>\n",
       "      <td>50675646</td>\n",
       "      <td>709263</td>\n",
       "      <td>254.769493</td>\n",
       "    </tr>\n",
       "  </tbody>\n",
       "</table>\n",
       "<p>5 rows × 35 columns</p>\n",
       "</div>"
      ],
      "text/plain": [
       "                               GME                                         \\\n",
       "                              open      high      low    close     volume   \n",
       "timestamp                                                                   \n",
       "2022-05-12 04:00:00+00:00    10.06    13.710     9.70    11.20  104735519   \n",
       "2022-05-12 04:00:00+00:00  2055.00  2215.615  2048.11  2138.61    6574160   \n",
       "2022-05-12 04:00:00+00:00    83.04   108.060    77.77    89.57   10023560   \n",
       "2022-05-12 04:00:00+00:00  2240.00  2297.130  2202.27  2263.22    2055927   \n",
       "2022-05-12 04:00:00+00:00   257.32   259.880   250.02   255.35   50675646   \n",
       "\n",
       "                                                        AMC            \\\n",
       "                          trade_count         vwap     open      high   \n",
       "timestamp                                                               \n",
       "2022-05-12 04:00:00+00:00      508133    11.457367    10.06    13.710   \n",
       "2022-05-12 04:00:00+00:00      358551  2129.391018  2055.00  2215.615   \n",
       "2022-05-12 04:00:00+00:00      186854    91.085635    83.04   108.060   \n",
       "2022-05-12 04:00:00+00:00      120731  2250.036001  2240.00  2297.130   \n",
       "2022-05-12 04:00:00+00:00      709263   254.769493   257.32   259.880   \n",
       "\n",
       "                                    ...       AMZN                           \\\n",
       "                               low  ...     volume trade_count         vwap   \n",
       "timestamp                           ...                                       \n",
       "2022-05-12 04:00:00+00:00     9.70  ...  104735519      508133    11.457367   \n",
       "2022-05-12 04:00:00+00:00  2048.11  ...    6574160      358551  2129.391018   \n",
       "2022-05-12 04:00:00+00:00    77.77  ...   10023560      186854    91.085635   \n",
       "2022-05-12 04:00:00+00:00  2202.27  ...    2055927      120731  2250.036001   \n",
       "2022-05-12 04:00:00+00:00   250.02  ...   50675646      709263   254.769493   \n",
       "\n",
       "                              GOOG                                         \\\n",
       "                              open      high      low    close     volume   \n",
       "timestamp                                                                   \n",
       "2022-05-12 04:00:00+00:00    10.06    13.710     9.70    11.20  104735519   \n",
       "2022-05-12 04:00:00+00:00  2055.00  2215.615  2048.11  2138.61    6574160   \n",
       "2022-05-12 04:00:00+00:00    83.04   108.060    77.77    89.57   10023560   \n",
       "2022-05-12 04:00:00+00:00  2240.00  2297.130  2202.27  2263.22    2055927   \n",
       "2022-05-12 04:00:00+00:00   257.32   259.880   250.02   255.35   50675646   \n",
       "\n",
       "                                                    \n",
       "                          trade_count         vwap  \n",
       "timestamp                                           \n",
       "2022-05-12 04:00:00+00:00      508133    11.457367  \n",
       "2022-05-12 04:00:00+00:00      358551  2129.391018  \n",
       "2022-05-12 04:00:00+00:00      186854    91.085635  \n",
       "2022-05-12 04:00:00+00:00      120731  2250.036001  \n",
       "2022-05-12 04:00:00+00:00      709263   254.769493  \n",
       "\n",
       "[5 rows x 35 columns]"
      ]
     },
     "execution_count": 6,
     "metadata": {},
     "output_type": "execute_result"
    }
   ],
   "source": [
    "# Uses the Alpaca get_bars function to get current closing prices each ticker in\n",
    "# the portfolio and creates a dataframe\n",
    "portfolio = alpaca.get_bars(\n",
    "    tickers,\n",
    "    timeframe,\n",
    "    start_date,\n",
    "    end_date\n",
    ").df\n",
    "    \n",
    "# Reorganizes the DataFrame\n",
    "# Separates ticker data\n",
    "ticker_1 = portfolio[portfolio['symbol']==portfolio.iloc[:,7]].drop('symbol', axis=1)\n",
    "ticker_2 = portfolio[portfolio['symbol']==portfolio.iloc[:,7]].drop('symbol', axis=1)\n",
    "ticker_3 = portfolio[portfolio['symbol']==portfolio.iloc[:,7]].drop('symbol', axis=1)\n",
    "ticker_4 = portfolio[portfolio['symbol']==portfolio.iloc[:,7]].drop('symbol', axis=1)\n",
    "ticker_5 = portfolio[portfolio['symbol']==portfolio.iloc[:,7]].drop('symbol', axis=1)\n",
    "\n",
    "# Concatenates the ticker DataFrames\n",
    "portfolio_df = pd.concat(\n",
    "    [ticker_1, ticker_2, ticker_3, ticker_4, ticker_5],\n",
    "    axis=1,\n",
    "    keys=[tickers[0], tickers[1], tickers[2], tickers[3], tickers[4]]\n",
    ")\n",
    "\n",
    "# Reviews the Alpaca DataFrame\n",
    "portfolio_df.head()"
   ]
  },
  {
   "cell_type": "code",
   "execution_count": 102,
   "id": "fe8e59e7-6df6-40cf-b053-969065088f5a",
   "metadata": {},
   "outputs": [
    {
     "name": "stdin",
     "output_type": "stream",
     "text": [
      "Would you like to save your portfolio to a CSV file?  Yes or No  No\n"
     ]
    },
    {
     "name": "stdout",
     "output_type": "stream",
     "text": [
      "Continue to the next section.\n"
     ]
    }
   ],
   "source": [
    "# Allows the user to choose whether or not they wish to save their portfolio\n",
    "\n",
    "file_path = Path(\"./Resources/portfolio.csv\")\n",
    "answer = input(\"Would you like to save your portfolio to a CSV file?  Yes or No \")\n",
    "if answer == (\"Yes\"):\n",
    "    portfolio_df.to_csv(file_path)\n",
    "else:\n",
    "    print(\"Continue to the next section.\")"
   ]
  },
  {
   "cell_type": "code",
   "execution_count": 7,
   "id": "4e56954d-dc63-4ff1-bdd7-9dc3ae220c1f",
   "metadata": {},
   "outputs": [
    {
     "name": "stdout",
     "output_type": "stream",
     "text": [
      "What is the quantity of each ticker that you own?\n"
     ]
    },
    {
     "name": "stdin",
     "output_type": "stream",
     "text": [
      "GME:  2\n",
      "AMC:  2\n",
      "MSFT:  2\n",
      "AMZN:  2\n",
      "GOOG:  2\n"
     ]
    }
   ],
   "source": [
    "# Allows the user to input the quantity of their stocks or bonds\n",
    "print(\"What is the quantity of each ticker that you own?\")\n",
    "ticker_1_qty = int(input(f\"{tickers[0]}: \"))\n",
    "ticker_2_qty = int(input(f\"{tickers[1]}: \"))\n",
    "ticker_3_qty = int(input(f\"{tickers[2]}: \"))\n",
    "ticker_4_qty = int(input(f\"{tickers[3]}: \"))\n",
    "ticker_5_qty = int(input(f\"{tickers[4]}: \"))\n"
   ]
  },
  {
   "cell_type": "code",
   "execution_count": 8,
   "id": "f48d33cc-c845-4329-910b-bae9f103fb79",
   "metadata": {},
   "outputs": [
    {
     "name": "stdout",
     "output_type": "stream",
     "text": [
      "Today's closing prices of the tickers in your portfolio are as follows:\n",
      "GME ----- 11.2\n",
      "AMC ----- 2138.61\n",
      "MSFT ----- 89.57\n",
      "AMZN ----- 2263.22\n",
      "GOOG ----- 255.35\n"
     ]
    }
   ],
   "source": [
    "# Fetches the closing prices of each ticker symbol in the portfolio\n",
    "ticker_1_close = float(portfolio_df.iat[0,3])\n",
    "ticker_2_close = float(portfolio_df.iat[1,3])\n",
    "ticker_3_close = float(portfolio_df.iat[2,3])\n",
    "ticker_4_close = float(portfolio_df.iat[3,3])\n",
    "ticker_5_close = float(portfolio_df.iat[4,3])\n",
    "\n",
    "                                    \n",
    "print(f\"Today's closing prices of the tickers in your portfolio are as follows:\")\n",
    "print(f\"{tickers[0]} ----- {ticker_1_close}\")\n",
    "print(f\"{tickers[1]} ----- {ticker_2_close}\")\n",
    "print(f\"{tickers[2]} ----- {ticker_3_close}\")\n",
    "print(f\"{tickers[3]} ----- {ticker_4_close}\")\n",
    "print(f\"{tickers[4]} ----- {ticker_5_close}\")"
   ]
  },
  {
   "cell_type": "code",
   "execution_count": 107,
   "id": "9a6d468d-55d1-4ef1-8b8a-466fa99a78f8",
   "metadata": {},
   "outputs": [
    {
     "name": "stdout",
     "output_type": "stream",
     "text": [
      "Your total portfolio value is $4837.040000000001\n"
     ]
    }
   ],
   "source": [
    "# Calculates the value of each ticker based on quantity owned\n",
    "ticker_1_value = ticker_1_qty * ticker_1_close\n",
    "ticker_2_value = ticker_2_qty * ticker_2_close\n",
    "ticker_3_value = ticker_3_qty * ticker_3_close\n",
    "ticker_4_value = ticker_4_qty * ticker_3_close\n",
    "ticker_5_value = ticker_5_qty * ticker_3_close\n",
    "\n",
    "\n",
    "# Adds up value of entire portfolio\n",
    "portfolio_value = (ticker_1_value + ticker_2_value + ticker_3_value + ticker_4_value + ticker_5_value)\n",
    "print(f\"Your total portfolio value is ${portfolio_value}\")"
   ]
  },
  {
   "cell_type": "code",
   "execution_count": null,
   "id": "927fe970-bc1f-44f6-b4ee-7ce7b8bbba28",
   "metadata": {},
   "outputs": [],
   "source": []
  },
  {
   "cell_type": "markdown",
   "id": "e40b293b-da69-4f87-8bff-28bd612faed2",
   "metadata": {},
   "source": [
    "# Evaluating the S&P 500 index"
   ]
  },
  {
   "cell_type": "code",
   "execution_count": 17,
   "id": "15bd4cc6-94e5-4f9e-8ecd-efbbae6f5214",
   "metadata": {},
   "outputs": [],
   "source": [
    "# Reads the S&P 500 data into a dataframe\n",
    "sp500 = pd.read_csv(\n",
    "    Path(\"Resources/S&P 500 Historical Data (1).csv\"),\n",
    "    index_col=\"Date\",\n",
    "    parse_dates=True,\n",
    "    infer_datetime_format=True\n",
    ")"
   ]
  },
  {
   "cell_type": "code",
   "execution_count": 18,
   "id": "cbfe610a-f3f9-4631-b0ab-297c9fbdfab5",
   "metadata": {},
   "outputs": [
    {
     "data": {
      "text/html": [
       "<div>\n",
       "<style scoped>\n",
       "    .dataframe tbody tr th:only-of-type {\n",
       "        vertical-align: middle;\n",
       "    }\n",
       "\n",
       "    .dataframe tbody tr th {\n",
       "        vertical-align: top;\n",
       "    }\n",
       "\n",
       "    .dataframe thead th {\n",
       "        text-align: right;\n",
       "    }\n",
       "</style>\n",
       "<table border=\"1\" class=\"dataframe\">\n",
       "  <thead>\n",
       "    <tr style=\"text-align: right;\">\n",
       "      <th></th>\n",
       "      <th>Price</th>\n",
       "      <th>Open</th>\n",
       "      <th>High</th>\n",
       "      <th>Low</th>\n",
       "      <th>Vol.</th>\n",
       "      <th>Change %</th>\n",
       "    </tr>\n",
       "    <tr>\n",
       "      <th>Date</th>\n",
       "      <th></th>\n",
       "      <th></th>\n",
       "      <th></th>\n",
       "      <th></th>\n",
       "      <th></th>\n",
       "      <th></th>\n",
       "    </tr>\n",
       "  </thead>\n",
       "  <tbody>\n",
       "    <tr>\n",
       "      <th>2022-05-13</th>\n",
       "      <td>4,024.70</td>\n",
       "      <td>3,975.30</td>\n",
       "      <td>4,039.40</td>\n",
       "      <td>3,963.20</td>\n",
       "      <td>-</td>\n",
       "      <td>2.41%</td>\n",
       "    </tr>\n",
       "    <tr>\n",
       "      <th>2022-05-12</th>\n",
       "      <td>3,930.08</td>\n",
       "      <td>3,903.95</td>\n",
       "      <td>3,964.80</td>\n",
       "      <td>3,858.87</td>\n",
       "      <td>-</td>\n",
       "      <td>-0.13%</td>\n",
       "    </tr>\n",
       "    <tr>\n",
       "      <th>2022-05-11</th>\n",
       "      <td>3,935.18</td>\n",
       "      <td>3,990.08</td>\n",
       "      <td>4,049.09</td>\n",
       "      <td>3,928.82</td>\n",
       "      <td>-</td>\n",
       "      <td>-1.65%</td>\n",
       "    </tr>\n",
       "    <tr>\n",
       "      <th>2022-05-10</th>\n",
       "      <td>4,001.05</td>\n",
       "      <td>4,035.18</td>\n",
       "      <td>4,068.82</td>\n",
       "      <td>3,958.17</td>\n",
       "      <td>-</td>\n",
       "      <td>0.25%</td>\n",
       "    </tr>\n",
       "    <tr>\n",
       "      <th>2022-05-09</th>\n",
       "      <td>3,991.24</td>\n",
       "      <td>4,081.27</td>\n",
       "      <td>4,081.27</td>\n",
       "      <td>3,975.48</td>\n",
       "      <td>-</td>\n",
       "      <td>-3.20%</td>\n",
       "    </tr>\n",
       "  </tbody>\n",
       "</table>\n",
       "</div>"
      ],
      "text/plain": [
       "               Price      Open      High       Low Vol. Change %\n",
       "Date                                                            \n",
       "2022-05-13  4,024.70  3,975.30  4,039.40  3,963.20    -    2.41%\n",
       "2022-05-12  3,930.08  3,903.95  3,964.80  3,858.87    -   -0.13%\n",
       "2022-05-11  3,935.18  3,990.08  4,049.09  3,928.82    -   -1.65%\n",
       "2022-05-10  4,001.05  4,035.18  4,068.82  3,958.17    -    0.25%\n",
       "2022-05-09  3,991.24  4,081.27  4,081.27  3,975.48    -   -3.20%"
      ]
     },
     "metadata": {},
     "output_type": "display_data"
    },
    {
     "data": {
      "text/html": [
       "<div>\n",
       "<style scoped>\n",
       "    .dataframe tbody tr th:only-of-type {\n",
       "        vertical-align: middle;\n",
       "    }\n",
       "\n",
       "    .dataframe tbody tr th {\n",
       "        vertical-align: top;\n",
       "    }\n",
       "\n",
       "    .dataframe thead th {\n",
       "        text-align: right;\n",
       "    }\n",
       "</style>\n",
       "<table border=\"1\" class=\"dataframe\">\n",
       "  <thead>\n",
       "    <tr style=\"text-align: right;\">\n",
       "      <th></th>\n",
       "      <th>Price</th>\n",
       "      <th>Open</th>\n",
       "      <th>High</th>\n",
       "      <th>Low</th>\n",
       "      <th>Vol.</th>\n",
       "      <th>Change %</th>\n",
       "    </tr>\n",
       "    <tr>\n",
       "      <th>Date</th>\n",
       "      <th></th>\n",
       "      <th></th>\n",
       "      <th></th>\n",
       "      <th></th>\n",
       "      <th></th>\n",
       "      <th></th>\n",
       "    </tr>\n",
       "  </thead>\n",
       "  <tbody>\n",
       "    <tr>\n",
       "      <th>2015-01-08</th>\n",
       "      <td>2,062.14</td>\n",
       "      <td>2,030.61</td>\n",
       "      <td>2,064.08</td>\n",
       "      <td>2,030.61</td>\n",
       "      <td>-</td>\n",
       "      <td>1.79%</td>\n",
       "    </tr>\n",
       "    <tr>\n",
       "      <th>2015-01-07</th>\n",
       "      <td>2,025.90</td>\n",
       "      <td>2,005.55</td>\n",
       "      <td>2,029.61</td>\n",
       "      <td>2,005.55</td>\n",
       "      <td>-</td>\n",
       "      <td>1.16%</td>\n",
       "    </tr>\n",
       "    <tr>\n",
       "      <th>2015-01-06</th>\n",
       "      <td>2,002.61</td>\n",
       "      <td>2,022.15</td>\n",
       "      <td>2,030.25</td>\n",
       "      <td>1,992.44</td>\n",
       "      <td>-</td>\n",
       "      <td>-0.89%</td>\n",
       "    </tr>\n",
       "    <tr>\n",
       "      <th>2015-01-05</th>\n",
       "      <td>2,020.58</td>\n",
       "      <td>2,054.44</td>\n",
       "      <td>2,054.44</td>\n",
       "      <td>2,017.34</td>\n",
       "      <td>-</td>\n",
       "      <td>-1.83%</td>\n",
       "    </tr>\n",
       "    <tr>\n",
       "      <th>2015-01-02</th>\n",
       "      <td>2,058.20</td>\n",
       "      <td>2,058.90</td>\n",
       "      <td>2,072.36</td>\n",
       "      <td>2,046.04</td>\n",
       "      <td>-</td>\n",
       "      <td>-0.03%</td>\n",
       "    </tr>\n",
       "  </tbody>\n",
       "</table>\n",
       "</div>"
      ],
      "text/plain": [
       "               Price      Open      High       Low Vol. Change %\n",
       "Date                                                            \n",
       "2015-01-08  2,062.14  2,030.61  2,064.08  2,030.61    -    1.79%\n",
       "2015-01-07  2,025.90  2,005.55  2,029.61  2,005.55    -    1.16%\n",
       "2015-01-06  2,002.61  2,022.15  2,030.25  1,992.44    -   -0.89%\n",
       "2015-01-05  2,020.58  2,054.44  2,054.44  2,017.34    -   -1.83%\n",
       "2015-01-02  2,058.20  2,058.90  2,072.36  2,046.04    -   -0.03%"
      ]
     },
     "metadata": {},
     "output_type": "display_data"
    }
   ],
   "source": [
    "# Displays the data\n",
    "display(sp500.head())\n",
    "display(sp500.tail())"
   ]
  },
  {
   "cell_type": "code",
   "execution_count": 19,
   "id": "9b65c532-fcb2-4966-bc75-ac94fd711763",
   "metadata": {},
   "outputs": [
    {
     "data": {
      "text/plain": [
       "Price       0\n",
       "Open        0\n",
       "High        0\n",
       "Low         0\n",
       "Vol.        0\n",
       "Change %    0\n",
       "dtype: int64"
      ]
     },
     "execution_count": 19,
     "metadata": {},
     "output_type": "execute_result"
    }
   ],
   "source": [
    "# Checks for null values in the data\n",
    "sp500.isnull().sum()"
   ]
  },
  {
   "cell_type": "code",
   "execution_count": 24,
   "id": "1cfdac7c-b85f-4ef1-adf7-3cfd0341d328",
   "metadata": {},
   "outputs": [
    {
     "data": {
      "text/html": [
       "<div>\n",
       "<style scoped>\n",
       "    .dataframe tbody tr th:only-of-type {\n",
       "        vertical-align: middle;\n",
       "    }\n",
       "\n",
       "    .dataframe tbody tr th {\n",
       "        vertical-align: top;\n",
       "    }\n",
       "\n",
       "    .dataframe thead th {\n",
       "        text-align: right;\n",
       "    }\n",
       "</style>\n",
       "<table border=\"1\" class=\"dataframe\">\n",
       "  <thead>\n",
       "    <tr style=\"text-align: right;\">\n",
       "      <th></th>\n",
       "      <th>Price</th>\n",
       "      <th>Open</th>\n",
       "      <th>High</th>\n",
       "      <th>Low</th>\n",
       "      <th>Vol.</th>\n",
       "      <th>Change %</th>\n",
       "    </tr>\n",
       "    <tr>\n",
       "      <th>Date</th>\n",
       "      <th></th>\n",
       "      <th></th>\n",
       "      <th></th>\n",
       "      <th></th>\n",
       "      <th></th>\n",
       "      <th></th>\n",
       "    </tr>\n",
       "  </thead>\n",
       "  <tbody>\n",
       "    <tr>\n",
       "      <th>2022-05-13</th>\n",
       "      <td>4024.70</td>\n",
       "      <td>3975.30</td>\n",
       "      <td>4039.40</td>\n",
       "      <td>3963.20</td>\n",
       "      <td>-</td>\n",
       "      <td>2.41%</td>\n",
       "    </tr>\n",
       "    <tr>\n",
       "      <th>2022-05-12</th>\n",
       "      <td>3930.08</td>\n",
       "      <td>3903.95</td>\n",
       "      <td>3964.80</td>\n",
       "      <td>3858.87</td>\n",
       "      <td>-</td>\n",
       "      <td>-0.13%</td>\n",
       "    </tr>\n",
       "    <tr>\n",
       "      <th>2022-05-11</th>\n",
       "      <td>3935.18</td>\n",
       "      <td>3990.08</td>\n",
       "      <td>4049.09</td>\n",
       "      <td>3928.82</td>\n",
       "      <td>-</td>\n",
       "      <td>-1.65%</td>\n",
       "    </tr>\n",
       "    <tr>\n",
       "      <th>2022-05-10</th>\n",
       "      <td>4001.05</td>\n",
       "      <td>4035.18</td>\n",
       "      <td>4068.82</td>\n",
       "      <td>3958.17</td>\n",
       "      <td>-</td>\n",
       "      <td>0.25%</td>\n",
       "    </tr>\n",
       "    <tr>\n",
       "      <th>2022-05-09</th>\n",
       "      <td>3991.24</td>\n",
       "      <td>4081.27</td>\n",
       "      <td>4081.27</td>\n",
       "      <td>3975.48</td>\n",
       "      <td>-</td>\n",
       "      <td>-3.20%</td>\n",
       "    </tr>\n",
       "  </tbody>\n",
       "</table>\n",
       "</div>"
      ],
      "text/plain": [
       "              Price     Open     High      Low Vol. Change %\n",
       "Date                                                        \n",
       "2022-05-13  4024.70  3975.30  4039.40  3963.20    -    2.41%\n",
       "2022-05-12  3930.08  3903.95  3964.80  3858.87    -   -0.13%\n",
       "2022-05-11  3935.18  3990.08  4049.09  3928.82    -   -1.65%\n",
       "2022-05-10  4001.05  4035.18  4068.82  3958.17    -    0.25%\n",
       "2022-05-09  3991.24  4081.27  4081.27  3975.48    -   -3.20%"
      ]
     },
     "execution_count": 24,
     "metadata": {},
     "output_type": "execute_result"
    }
   ],
   "source": [
    "# Cleans and prepares the data for the dataframe\n",
    "sp500.loc[:, 'Open'] = sp500.loc[:, 'Open'].str.replace(\",\", \"\")\n",
    "sp500.loc[:, 'High'] = sp500.loc[:, 'High'].str.replace(\",\", \"\")\n",
    "sp500.loc[:, 'Low'] = sp500.loc[:, 'Low'].str.replace(\",\", \"\")\n",
    "sp500.loc[:, 'Price'] = sp500.loc[:, 'Price'].str.replace(\",\", \"\")\n",
    "\n",
    "# Confirms cleaning of data\n",
    "sp500.head()"
   ]
  },
  {
   "cell_type": "code",
   "execution_count": 49,
   "id": "97adbab0-33fd-47a7-a69c-0abba7527b8b",
   "metadata": {},
   "outputs": [
    {
     "data": {
      "text/plain": [
       "Price         int64\n",
       "Open        float64\n",
       "High        float64\n",
       "Low         float64\n",
       "Vol.         object\n",
       "Change %     object\n",
       "dtype: object"
      ]
     },
     "execution_count": 49,
     "metadata": {},
     "output_type": "execute_result"
    }
   ],
   "source": [
    "# Changes all data types to float\n",
    "sp500.loc[:, 'Open'] = sp500.loc[:, 'Open'].astype('float')\n",
    "sp500.loc[:, 'High'] = sp500.loc[:, 'High'].astype('float')\n",
    "sp500.loc[:, 'Low'] = sp500.loc[:, 'Low'].astype('float')\n",
    "sp500.loc[:, 'Price'] = sp500.loc[:, 'Price'].astype('int')\n",
    "\n",
    "# Confirms data type conversion\n",
    "sp500.dtypes"
   ]
  },
  {
   "cell_type": "code",
   "execution_count": 50,
   "id": "4d650242-3a81-4222-8889-33c5963ee2dc",
   "metadata": {},
   "outputs": [
    {
     "data": {
      "application/vnd.holoviews_exec.v0+json": "",
      "text/html": [
       "<div id='3884'>\n",
       "\n",
       "\n",
       "\n",
       "\n",
       "\n",
       "  <div class=\"bk-root\" id=\"66e55c65-78f2-4b7f-9a75-27d03902554d\" data-root-id=\"3884\"></div>\n",
       "</div>\n",
       "<script type=\"application/javascript\">(function(root) {\n",
       "  function embed_document(root) {\n",
       "    var docs_json = {\"65b5f007-7477-423a-ad4d-99c08c910de5\":{\"defs\":[{\"extends\":null,\"module\":null,\"name\":\"ReactiveHTML1\",\"overrides\":[],\"properties\":[]},{\"extends\":null,\"module\":null,\"name\":\"FlexBox1\",\"overrides\":[],\"properties\":[{\"default\":\"flex-start\",\"kind\":null,\"name\":\"align_content\"},{\"default\":\"flex-start\",\"kind\":null,\"name\":\"align_items\"},{\"default\":\"row\",\"kind\":null,\"name\":\"flex_direction\"},{\"default\":\"wrap\",\"kind\":null,\"name\":\"flex_wrap\"},{\"default\":\"flex-start\",\"kind\":null,\"name\":\"justify_content\"}]},{\"extends\":null,\"module\":null,\"name\":\"GridStack1\",\"overrides\":[],\"properties\":[{\"default\":\"warn\",\"kind\":null,\"name\":\"mode\"},{\"default\":null,\"kind\":null,\"name\":\"ncols\"},{\"default\":null,\"kind\":null,\"name\":\"nrows\"},{\"default\":true,\"kind\":null,\"name\":\"allow_resize\"},{\"default\":true,\"kind\":null,\"name\":\"allow_drag\"},{\"default\":[],\"kind\":null,\"name\":\"state\"}]},{\"extends\":null,\"module\":null,\"name\":\"click1\",\"overrides\":[],\"properties\":[{\"default\":\"\",\"kind\":null,\"name\":\"terminal_output\"},{\"default\":\"\",\"kind\":null,\"name\":\"debug_name\"},{\"default\":0,\"kind\":null,\"name\":\"clears\"}]},{\"extends\":null,\"module\":null,\"name\":\"TemplateActions1\",\"overrides\":[],\"properties\":[{\"default\":0,\"kind\":null,\"name\":\"open_modal\"},{\"default\":0,\"kind\":null,\"name\":\"close_modal\"}]},{\"extends\":null,\"module\":null,\"name\":\"MaterialTemplateActions1\",\"overrides\":[],\"properties\":[{\"default\":0,\"kind\":null,\"name\":\"open_modal\"},{\"default\":0,\"kind\":null,\"name\":\"close_modal\"}]}],\"roots\":{\"references\":[{\"attributes\":{},\"id\":\"3930\",\"type\":\"DatetimeTickFormatter\"},{\"attributes\":{\"end\":1652400000000.0,\"reset_end\":1652400000000.0,\"reset_start\":1420156800000.0,\"start\":1420156800000.0,\"tags\":[[[\"Date\",\"Date\",null]]]},\"id\":\"3886\",\"type\":\"Range1d\"},{\"attributes\":{\"months\":[0,4,8]},\"id\":\"3955\",\"type\":\"MonthsTicker\"},{\"attributes\":{\"line_color\":\"#30a2da\",\"line_width\":2,\"x\":{\"field\":\"Date\"},\"y\":{\"field\":\"Price\"}},\"id\":\"3927\",\"type\":\"Line\"},{\"attributes\":{\"callback\":null,\"formatters\":{\"@{Date}\":\"datetime\"},\"renderers\":[{\"id\":\"3925\"}],\"tags\":[\"hv_created\"],\"tooltips\":[[\"Date\",\"@{Date}{%F %T}\"],[\"Price\",\"@{Price}\"]]},\"id\":\"3888\",\"type\":\"HoverTool\"},{\"attributes\":{\"source\":{\"id\":\"3919\"}},\"id\":\"3926\",\"type\":\"CDSView\"},{\"attributes\":{\"format\":\"%.2f\"},\"id\":\"3928\",\"type\":\"PrintfTickFormatter\"},{\"attributes\":{\"line_alpha\":0.2,\"line_color\":\"#30a2da\",\"line_width\":2,\"x\":{\"field\":\"Date\"},\"y\":{\"field\":\"Price\"}},\"id\":\"3924\",\"type\":\"Line\"},{\"attributes\":{},\"id\":\"3906\",\"type\":\"SaveTool\"},{\"attributes\":{\"children\":[{\"id\":\"3885\"},{\"id\":\"3889\"},{\"id\":\"3979\"}],\"margin\":[0,0,0,0],\"name\":\"Row04192\",\"tags\":[\"embedded\"]},\"id\":\"3884\",\"type\":\"Row\"},{\"attributes\":{\"months\":[0,6]},\"id\":\"3956\",\"type\":\"MonthsTicker\"},{\"attributes\":{},\"id\":\"3907\",\"type\":\"PanTool\"},{\"attributes\":{\"days\":[1,4,7,10,13,16,19,22,25,28]},\"id\":\"3950\",\"type\":\"DaysTicker\"},{\"attributes\":{},\"id\":\"3957\",\"type\":\"YearsTicker\"},{\"attributes\":{},\"id\":\"3908\",\"type\":\"WheelZoomTool\"},{\"attributes\":{\"margin\":[5,5,5,5],\"name\":\"HSpacer04196\",\"sizing_mode\":\"stretch_width\"},\"id\":\"3885\",\"type\":\"Spacer\"},{\"attributes\":{\"tools\":[{\"id\":\"3888\"},{\"id\":\"3906\"},{\"id\":\"3907\"},{\"id\":\"3908\"},{\"id\":\"3909\"},{\"id\":\"3910\"}]},\"id\":\"3912\",\"type\":\"Toolbar\"},{\"attributes\":{\"axis_label\":\"Price (USD)\",\"coordinates\":null,\"formatter\":{\"id\":\"3928\"},\"group\":null,\"major_label_policy\":{\"id\":\"3934\"},\"ticker\":{\"id\":\"3903\"}},\"id\":\"3902\",\"type\":\"LinearAxis\"},{\"attributes\":{\"end\":5092.7,\"reset_end\":5092.7,\"reset_start\":1532.3,\"start\":1532.3,\"tags\":[[[\"Price\",\"Price\",null]]]},\"id\":\"3887\",\"type\":\"Range1d\"},{\"attributes\":{\"overlay\":{\"id\":\"3911\"}},\"id\":\"3909\",\"type\":\"BoxZoomTool\"},{\"attributes\":{},\"id\":\"3894\",\"type\":\"LinearScale\"},{\"attributes\":{\"coordinates\":null,\"group\":null,\"text\":\"S&P 500 Index: January 2015 - May 2022\",\"text_color\":\"black\",\"text_font_size\":\"12pt\"},\"id\":\"3890\",\"type\":\"Title\"},{\"attributes\":{},\"id\":\"3920\",\"type\":\"Selection\"},{\"attributes\":{\"line_alpha\":0.1,\"line_color\":\"#30a2da\",\"line_width\":2,\"x\":{\"field\":\"Date\"},\"y\":{\"field\":\"Price\"}},\"id\":\"3923\",\"type\":\"Line\"},{\"attributes\":{\"below\":[{\"id\":\"3898\"}],\"center\":[{\"id\":\"3901\"},{\"id\":\"3905\"}],\"height\":300,\"left\":[{\"id\":\"3902\"}],\"margin\":[5,5,5,5],\"min_border_bottom\":10,\"min_border_left\":10,\"min_border_right\":10,\"min_border_top\":10,\"renderers\":[{\"id\":\"3925\"}],\"sizing_mode\":\"fixed\",\"title\":{\"id\":\"3890\"},\"toolbar\":{\"id\":\"3912\"},\"width\":700,\"x_range\":{\"id\":\"3886\"},\"x_scale\":{\"id\":\"3894\"},\"y_range\":{\"id\":\"3887\"},\"y_scale\":{\"id\":\"3896\"}},\"id\":\"3889\",\"subtype\":\"Figure\",\"type\":\"Plot\"},{\"attributes\":{\"line_color\":\"#30a2da\",\"line_width\":2,\"x\":{\"field\":\"Date\"},\"y\":{\"field\":\"Price\"}},\"id\":\"3922\",\"type\":\"Line\"},{\"attributes\":{\"data\":{\"Date\":{\"__ndarray__\":\"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\",\"dtype\":\"float64\",\"order\":\"little\",\"shape\":[1855]},\"Price\":{\"__ndarray__\":\"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\",\"dtype\":\"float64\",\"order\":\"little\",\"shape\":[1855]}},\"selected\":{\"id\":\"3920\"},\"selection_policy\":{\"id\":\"3943\"}},\"id\":\"3919\",\"type\":\"ColumnDataSource\"},{\"attributes\":{},\"id\":\"3910\",\"type\":\"ResetTool\"},{\"attributes\":{},\"id\":\"3934\",\"type\":\"AllLabels\"},{\"attributes\":{},\"id\":\"3896\",\"type\":\"LinearScale\"},{\"attributes\":{\"bottom_units\":\"screen\",\"coordinates\":null,\"fill_alpha\":0.5,\"fill_color\":\"lightgrey\",\"group\":null,\"left_units\":\"screen\",\"level\":\"overlay\",\"line_alpha\":1.0,\"line_color\":\"black\",\"line_dash\":[4,4],\"line_width\":2,\"right_units\":\"screen\",\"syncable\":false,\"top_units\":\"screen\"},\"id\":\"3911\",\"type\":\"BoxAnnotation\"},{\"attributes\":{\"days\":[1,2,3,4,5,6,7,8,9,10,11,12,13,14,15,16,17,18,19,20,21,22,23,24,25,26,27,28,29,30,31]},\"id\":\"3949\",\"type\":\"DaysTicker\"},{\"attributes\":{\"margin\":[5,5,5,5],\"name\":\"HSpacer04197\",\"sizing_mode\":\"stretch_width\"},\"id\":\"3979\",\"type\":\"Spacer\"},{\"attributes\":{},\"id\":\"3903\",\"type\":\"BasicTicker\"},{\"attributes\":{},\"id\":\"3943\",\"type\":\"UnionRenderers\"},{\"attributes\":{\"coordinates\":null,\"data_source\":{\"id\":\"3919\"},\"glyph\":{\"id\":\"3922\"},\"group\":null,\"hover_glyph\":null,\"muted_glyph\":{\"id\":\"3924\"},\"nonselection_glyph\":{\"id\":\"3923\"},\"selection_glyph\":{\"id\":\"3927\"},\"view\":{\"id\":\"3926\"}},\"id\":\"3925\",\"type\":\"GlyphRenderer\"},{\"attributes\":{\"base\":60,\"mantissas\":[1,2,5,10,15,20,30],\"max_interval\":1800000.0,\"min_interval\":1000.0,\"num_minor_ticks\":0},\"id\":\"3947\",\"type\":\"AdaptiveTicker\"},{\"attributes\":{\"axis_label\":\"Date\",\"coordinates\":null,\"formatter\":{\"id\":\"3930\"},\"group\":null,\"major_label_policy\":{\"id\":\"3931\"},\"ticker\":{\"id\":\"3899\"}},\"id\":\"3898\",\"type\":\"DatetimeAxis\"},{\"attributes\":{\"mantissas\":[1,2,5],\"max_interval\":500.0,\"num_minor_ticks\":0},\"id\":\"3946\",\"type\":\"AdaptiveTicker\"},{\"attributes\":{\"base\":24,\"mantissas\":[1,2,4,6,8,12],\"max_interval\":43200000.0,\"min_interval\":3600000.0,\"num_minor_ticks\":0},\"id\":\"3948\",\"type\":\"AdaptiveTicker\"},{\"attributes\":{\"axis\":{\"id\":\"3898\"},\"coordinates\":null,\"grid_line_color\":null,\"group\":null,\"ticker\":null},\"id\":\"3901\",\"type\":\"Grid\"},{\"attributes\":{},\"id\":\"3931\",\"type\":\"AllLabels\"},{\"attributes\":{\"days\":[1,8,15,22]},\"id\":\"3951\",\"type\":\"DaysTicker\"},{\"attributes\":{\"axis\":{\"id\":\"3902\"},\"coordinates\":null,\"dimension\":1,\"grid_line_color\":null,\"group\":null,\"ticker\":null},\"id\":\"3905\",\"type\":\"Grid\"},{\"attributes\":{\"num_minor_ticks\":5,\"tickers\":[{\"id\":\"3946\"},{\"id\":\"3947\"},{\"id\":\"3948\"},{\"id\":\"3949\"},{\"id\":\"3950\"},{\"id\":\"3951\"},{\"id\":\"3952\"},{\"id\":\"3953\"},{\"id\":\"3954\"},{\"id\":\"3955\"},{\"id\":\"3956\"},{\"id\":\"3957\"}]},\"id\":\"3899\",\"type\":\"DatetimeTicker\"},{\"attributes\":{\"months\":[0,2,4,6,8,10]},\"id\":\"3954\",\"type\":\"MonthsTicker\"},{\"attributes\":{\"days\":[1,15]},\"id\":\"3952\",\"type\":\"DaysTicker\"},{\"attributes\":{\"months\":[0,1,2,3,4,5,6,7,8,9,10,11]},\"id\":\"3953\",\"type\":\"MonthsTicker\"}],\"root_ids\":[\"3884\"]},\"title\":\"Bokeh Application\",\"version\":\"2.4.2\"}};\n",
       "    var render_items = [{\"docid\":\"65b5f007-7477-423a-ad4d-99c08c910de5\",\"root_ids\":[\"3884\"],\"roots\":{\"3884\":\"66e55c65-78f2-4b7f-9a75-27d03902554d\"}}];\n",
       "    root.Bokeh.embed.embed_items_notebook(docs_json, render_items);\n",
       "  }\n",
       "  if (root.Bokeh !== undefined && root.Bokeh.Panel !== undefined) {\n",
       "    embed_document(root);\n",
       "  } else {\n",
       "    var attempts = 0;\n",
       "    var timer = setInterval(function(root) {\n",
       "      if (root.Bokeh !== undefined && root.Bokeh.Panel !== undefined) {\n",
       "        clearInterval(timer);\n",
       "        embed_document(root);\n",
       "      } else if (document.readyState == \"complete\") {\n",
       "        attempts++;\n",
       "        if (attempts > 200) {\n",
       "          clearInterval(timer);\n",
       "          console.log(\"Bokeh: ERROR: Unable to run BokehJS code because BokehJS library is missing\");\n",
       "        }\n",
       "      }\n",
       "    }, 25, root)\n",
       "  }\n",
       "})(window);</script>"
      ],
      "text/plain": [
       ":Curve   [Date]   (Price)"
      ]
     },
     "execution_count": 50,
     "metadata": {
      "application/vnd.holoviews_exec.v0+json": {
       "id": "3884"
      }
     },
     "output_type": "execute_result"
    }
   ],
   "source": [
    "# Pulls the closing prices for the index and plots them\n",
    "sp500_close = sp500['Price'].astype('float')\n",
    "sp500_close.hvplot(\n",
    "    ylabel=\"Price (USD)\",\n",
    "    title=\"S&P 500 Index: January 2015 - May 2022\"\n",
    ")"
   ]
  },
  {
   "cell_type": "code",
   "execution_count": 53,
   "id": "70ed6b11-b176-4b2a-971e-abba133017db",
   "metadata": {},
   "outputs": [
    {
     "data": {
      "application/vnd.holoviews_exec.v0+json": "",
      "text/html": [
       "<div id='4292'>\n",
       "\n",
       "\n",
       "\n",
       "\n",
       "\n",
       "  <div class=\"bk-root\" id=\"7646fd0b-cad2-4306-9e73-a0add782998b\" data-root-id=\"4292\"></div>\n",
       "</div>\n",
       "<script type=\"application/javascript\">(function(root) {\n",
       "  function embed_document(root) {\n",
       "    var docs_json = {\"5062bb48-1d66-4010-9768-603a8f7ce7fd\":{\"defs\":[{\"extends\":null,\"module\":null,\"name\":\"ReactiveHTML1\",\"overrides\":[],\"properties\":[]},{\"extends\":null,\"module\":null,\"name\":\"FlexBox1\",\"overrides\":[],\"properties\":[{\"default\":\"flex-start\",\"kind\":null,\"name\":\"align_content\"},{\"default\":\"flex-start\",\"kind\":null,\"name\":\"align_items\"},{\"default\":\"row\",\"kind\":null,\"name\":\"flex_direction\"},{\"default\":\"wrap\",\"kind\":null,\"name\":\"flex_wrap\"},{\"default\":\"flex-start\",\"kind\":null,\"name\":\"justify_content\"}]},{\"extends\":null,\"module\":null,\"name\":\"GridStack1\",\"overrides\":[],\"properties\":[{\"default\":\"warn\",\"kind\":null,\"name\":\"mode\"},{\"default\":null,\"kind\":null,\"name\":\"ncols\"},{\"default\":null,\"kind\":null,\"name\":\"nrows\"},{\"default\":true,\"kind\":null,\"name\":\"allow_resize\"},{\"default\":true,\"kind\":null,\"name\":\"allow_drag\"},{\"default\":[],\"kind\":null,\"name\":\"state\"}]},{\"extends\":null,\"module\":null,\"name\":\"click1\",\"overrides\":[],\"properties\":[{\"default\":\"\",\"kind\":null,\"name\":\"terminal_output\"},{\"default\":\"\",\"kind\":null,\"name\":\"debug_name\"},{\"default\":0,\"kind\":null,\"name\":\"clears\"}]},{\"extends\":null,\"module\":null,\"name\":\"TemplateActions1\",\"overrides\":[],\"properties\":[{\"default\":0,\"kind\":null,\"name\":\"open_modal\"},{\"default\":0,\"kind\":null,\"name\":\"close_modal\"}]},{\"extends\":null,\"module\":null,\"name\":\"MaterialTemplateActions1\",\"overrides\":[],\"properties\":[{\"default\":0,\"kind\":null,\"name\":\"open_modal\"},{\"default\":0,\"kind\":null,\"name\":\"close_modal\"}]}],\"roots\":{\"references\":[{\"attributes\":{\"margin\":[5,5,5,5],\"name\":\"HSpacer04550\",\"sizing_mode\":\"stretch_width\"},\"id\":\"4293\",\"type\":\"Spacer\"},{\"attributes\":{\"end\":1652313600000.0,\"reset_end\":1652313600000.0,\"reset_start\":1420156800000.0,\"start\":1420156800000.0,\"tags\":[[[\"Date\",\"Date\",null]]]},\"id\":\"4294\",\"type\":\"Range1d\"},{\"attributes\":{\"data\":{\"Date\":{\"__ndarray__\":\"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\",\"dtype\":\"float64\",\"order\":\"little\",\"shape\":[1854]},\"Price\":{\"__ndarray__\":\"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\",\"dtype\":\"float64\",\"order\":\"little\",\"shape\":[1854]}},\"selected\":{\"id\":\"4328\"},\"selection_policy\":{\"id\":\"4349\"}},\"id\":\"4327\",\"type\":\"ColumnDataSource\"},{\"attributes\":{},\"id\":\"4337\",\"type\":\"DatetimeTickFormatter\"},{\"attributes\":{\"source\":{\"id\":\"4327\"}},\"id\":\"4334\",\"type\":\"CDSView\"},{\"attributes\":{\"line_color\":\"#30a2da\",\"line_width\":2,\"x\":{\"field\":\"Date\"},\"y\":{\"field\":\"Price\"}},\"id\":\"4335\",\"type\":\"Line\"},{\"attributes\":{\"callback\":null,\"formatters\":{\"@{Date}\":\"datetime\"},\"renderers\":[{\"id\":\"4333\"}],\"tags\":[\"hv_created\"],\"tooltips\":[[\"Date\",\"@{Date}{%F %T}\"],[\"Price\",\"@{Price}\"]]},\"id\":\"4296\",\"type\":\"HoverTool\"},{\"attributes\":{\"num_minor_ticks\":5,\"tickers\":[{\"id\":\"4352\"},{\"id\":\"4353\"},{\"id\":\"4354\"},{\"id\":\"4355\"},{\"id\":\"4356\"},{\"id\":\"4357\"},{\"id\":\"4358\"},{\"id\":\"4359\"},{\"id\":\"4360\"},{\"id\":\"4361\"},{\"id\":\"4362\"},{\"id\":\"4363\"}]},\"id\":\"4307\",\"type\":\"DatetimeTicker\"},{\"attributes\":{},\"id\":\"4316\",\"type\":\"WheelZoomTool\"},{\"attributes\":{},\"id\":\"4338\",\"type\":\"AllLabels\"},{\"attributes\":{},\"id\":\"4314\",\"type\":\"SaveTool\"},{\"attributes\":{},\"id\":\"4340\",\"type\":\"BasicTickFormatter\"},{\"attributes\":{},\"id\":\"4315\",\"type\":\"PanTool\"},{\"attributes\":{\"tools\":[{\"id\":\"4296\"},{\"id\":\"4314\"},{\"id\":\"4315\"},{\"id\":\"4316\"},{\"id\":\"4317\"},{\"id\":\"4318\"}]},\"id\":\"4320\",\"type\":\"Toolbar\"},{\"attributes\":{\"line_alpha\":0.1,\"line_color\":\"#30a2da\",\"line_width\":2,\"x\":{\"field\":\"Date\"},\"y\":{\"field\":\"Price\"}},\"id\":\"4331\",\"type\":\"Line\"},{\"attributes\":{\"overlay\":{\"id\":\"4319\"}},\"id\":\"4317\",\"type\":\"BoxZoomTool\"},{\"attributes\":{\"axis_label\":\"\",\"coordinates\":null,\"formatter\":{\"id\":\"4340\"},\"group\":null,\"major_label_policy\":{\"id\":\"4341\"},\"ticker\":{\"id\":\"4311\"}},\"id\":\"4310\",\"type\":\"LinearAxis\"},{\"attributes\":{\"base\":60,\"mantissas\":[1,2,5,10,15,20,30],\"max_interval\":1800000.0,\"min_interval\":1000.0,\"num_minor_ticks\":0},\"id\":\"4353\",\"type\":\"AdaptiveTicker\"},{\"attributes\":{\"below\":[{\"id\":\"4306\"}],\"center\":[{\"id\":\"4309\"},{\"id\":\"4313\"}],\"height\":300,\"left\":[{\"id\":\"4310\"}],\"margin\":[5,5,5,5],\"min_border_bottom\":10,\"min_border_left\":10,\"min_border_right\":10,\"min_border_top\":10,\"renderers\":[{\"id\":\"4333\"}],\"sizing_mode\":\"fixed\",\"title\":{\"id\":\"4298\"},\"toolbar\":{\"id\":\"4320\"},\"width\":700,\"x_range\":{\"id\":\"4294\"},\"x_scale\":{\"id\":\"4302\"},\"y_range\":{\"id\":\"4295\"},\"y_scale\":{\"id\":\"4304\"}},\"id\":\"4297\",\"subtype\":\"Figure\",\"type\":\"Plot\"},{\"attributes\":{\"days\":[1,4,7,10,13,16,19,22,25,28]},\"id\":\"4356\",\"type\":\"DaysTicker\"},{\"attributes\":{\"children\":[{\"id\":\"4293\"},{\"id\":\"4297\"},{\"id\":\"4386\"}],\"margin\":[0,0,0,0],\"name\":\"Row04546\",\"tags\":[\"embedded\"]},\"id\":\"4292\",\"type\":\"Row\"},{\"attributes\":{\"coordinates\":null,\"group\":null,\"text\":\"S&P 500 Daily Returns\",\"text_color\":\"black\",\"text_font_size\":\"12pt\"},\"id\":\"4298\",\"type\":\"Title\"},{\"attributes\":{},\"id\":\"4302\",\"type\":\"LinearScale\"},{\"attributes\":{},\"id\":\"4328\",\"type\":\"Selection\"},{\"attributes\":{},\"id\":\"4318\",\"type\":\"ResetTool\"},{\"attributes\":{},\"id\":\"4341\",\"type\":\"AllLabels\"},{\"attributes\":{\"bottom_units\":\"screen\",\"coordinates\":null,\"fill_alpha\":0.5,\"fill_color\":\"lightgrey\",\"group\":null,\"left_units\":\"screen\",\"level\":\"overlay\",\"line_alpha\":1.0,\"line_color\":\"black\",\"line_dash\":[4,4],\"line_width\":2,\"right_units\":\"screen\",\"syncable\":false,\"top_units\":\"screen\"},\"id\":\"4319\",\"type\":\"BoxAnnotation\"},{\"attributes\":{\"months\":[0,2,4,6,8,10]},\"id\":\"4360\",\"type\":\"MonthsTicker\"},{\"attributes\":{\"months\":[0,6]},\"id\":\"4362\",\"type\":\"MonthsTicker\"},{\"attributes\":{\"line_alpha\":0.2,\"line_color\":\"#30a2da\",\"line_width\":2,\"x\":{\"field\":\"Date\"},\"y\":{\"field\":\"Price\"}},\"id\":\"4332\",\"type\":\"Line\"},{\"attributes\":{\"days\":[1,8,15,22]},\"id\":\"4357\",\"type\":\"DaysTicker\"},{\"attributes\":{\"days\":[1,2,3,4,5,6,7,8,9,10,11,12,13,14,15,16,17,18,19,20,21,22,23,24,25,26,27,28,29,30,31]},\"id\":\"4355\",\"type\":\"DaysTicker\"},{\"attributes\":{},\"id\":\"4304\",\"type\":\"LinearScale\"},{\"attributes\":{\"base\":24,\"mantissas\":[1,2,4,6,8,12],\"max_interval\":43200000.0,\"min_interval\":3600000.0,\"num_minor_ticks\":0},\"id\":\"4354\",\"type\":\"AdaptiveTicker\"},{\"attributes\":{},\"id\":\"4349\",\"type\":\"UnionRenderers\"},{\"attributes\":{},\"id\":\"4363\",\"type\":\"YearsTicker\"},{\"attributes\":{\"coordinates\":null,\"data_source\":{\"id\":\"4327\"},\"glyph\":{\"id\":\"4330\"},\"group\":null,\"hover_glyph\":null,\"muted_glyph\":{\"id\":\"4332\"},\"nonselection_glyph\":{\"id\":\"4331\"},\"selection_glyph\":{\"id\":\"4335\"},\"view\":{\"id\":\"4334\"}},\"id\":\"4333\",\"type\":\"GlyphRenderer\"},{\"attributes\":{\"margin\":[5,5,5,5],\"name\":\"HSpacer04551\",\"sizing_mode\":\"stretch_width\"},\"id\":\"4386\",\"type\":\"Spacer\"},{\"attributes\":{},\"id\":\"4311\",\"type\":\"BasicTicker\"},{\"attributes\":{\"days\":[1,15]},\"id\":\"4358\",\"type\":\"DaysTicker\"},{\"attributes\":{\"line_color\":\"#30a2da\",\"line_width\":2,\"x\":{\"field\":\"Date\"},\"y\":{\"field\":\"Price\"}},\"id\":\"4330\",\"type\":\"Line\"},{\"attributes\":{\"axis_label\":\"Date\",\"coordinates\":null,\"formatter\":{\"id\":\"4337\"},\"group\":null,\"major_label_policy\":{\"id\":\"4338\"},\"ticker\":{\"id\":\"4307\"}},\"id\":\"4306\",\"type\":\"DatetimeAxis\"},{\"attributes\":{\"months\":[0,1,2,3,4,5,6,7,8,9,10,11]},\"id\":\"4359\",\"type\":\"MonthsTicker\"},{\"attributes\":{\"axis\":{\"id\":\"4306\"},\"coordinates\":null,\"grid_line_color\":null,\"group\":null,\"ticker\":null},\"id\":\"4309\",\"type\":\"Grid\"},{\"attributes\":{\"months\":[0,4,8]},\"id\":\"4361\",\"type\":\"MonthsTicker\"},{\"attributes\":{\"mantissas\":[1,2,5],\"max_interval\":500.0,\"num_minor_ticks\":0},\"id\":\"4352\",\"type\":\"AdaptiveTicker\"},{\"attributes\":{\"axis\":{\"id\":\"4310\"},\"coordinates\":null,\"dimension\":1,\"grid_line_color\":null,\"group\":null,\"ticker\":null},\"id\":\"4313\",\"type\":\"Grid\"},{\"attributes\":{\"end\":0.15841429247233305,\"reset_end\":0.15841429247233305,\"reset_start\":-0.10802243094251959,\"start\":-0.10802243094251959,\"tags\":[[[\"Price\",\"Price\",null]]]},\"id\":\"4295\",\"type\":\"Range1d\"}],\"root_ids\":[\"4292\"]},\"title\":\"Bokeh Application\",\"version\":\"2.4.2\"}};\n",
       "    var render_items = [{\"docid\":\"5062bb48-1d66-4010-9768-603a8f7ce7fd\",\"root_ids\":[\"4292\"],\"roots\":{\"4292\":\"7646fd0b-cad2-4306-9e73-a0add782998b\"}}];\n",
       "    root.Bokeh.embed.embed_items_notebook(docs_json, render_items);\n",
       "  }\n",
       "  if (root.Bokeh !== undefined && root.Bokeh.Panel !== undefined) {\n",
       "    embed_document(root);\n",
       "  } else {\n",
       "    var attempts = 0;\n",
       "    var timer = setInterval(function(root) {\n",
       "      if (root.Bokeh !== undefined && root.Bokeh.Panel !== undefined) {\n",
       "        clearInterval(timer);\n",
       "        embed_document(root);\n",
       "      } else if (document.readyState == \"complete\") {\n",
       "        attempts++;\n",
       "        if (attempts > 200) {\n",
       "          clearInterval(timer);\n",
       "          console.log(\"Bokeh: ERROR: Unable to run BokehJS code because BokehJS library is missing\");\n",
       "        }\n",
       "      }\n",
       "    }, 25, root)\n",
       "  }\n",
       "})(window);</script>"
      ],
      "text/plain": [
       ":Curve   [Date]   (Price)"
      ]
     },
     "execution_count": 53,
     "metadata": {
      "application/vnd.holoviews_exec.v0+json": {
       "id": "4292"
      }
     },
     "output_type": "execute_result"
    }
   ],
   "source": [
    "# Calculates daily returns for the index and plots them\n",
    "sp500_daily_returns = sp500_close.pct_change().dropna()\n",
    "sp500_daily_returns.hvplot(\n",
    "    title=\"S&P 500 Daily Returns\"\n",
    ")"
   ]
  },
  {
   "cell_type": "markdown",
   "id": "08191735-4e8e-4be5-bb60-6b8bfa4e091f",
   "metadata": {},
   "source": [
    "# Calculate the daily returns for your portfolio"
   ]
  },
  {
   "cell_type": "code",
   "execution_count": 86,
   "id": "8358b290-af26-44db-a6d1-71a5cd1e400a",
   "metadata": {},
   "outputs": [],
   "source": []
  },
  {
   "cell_type": "code",
   "execution_count": 79,
   "id": "c8527da7-3dce-41c4-ab9d-b32473850b4d",
   "metadata": {},
   "outputs": [
    {
     "ename": "KeyError",
     "evalue": "'open'",
     "output_type": "error",
     "traceback": [
      "\u001b[0;31m---------------------------------------------------------------------------\u001b[0m",
      "\u001b[0;31mKeyError\u001b[0m                                  Traceback (most recent call last)",
      "\u001b[0;32m/opt/anaconda3/envs/dev/lib/python3.7/site-packages/pandas/core/indexes/base.py\u001b[0m in \u001b[0;36mget_loc\u001b[0;34m(self, key, method, tolerance)\u001b[0m\n\u001b[1;32m   3360\u001b[0m             \u001b[0;32mtry\u001b[0m\u001b[0;34m:\u001b[0m\u001b[0;34m\u001b[0m\u001b[0;34m\u001b[0m\u001b[0m\n\u001b[0;32m-> 3361\u001b[0;31m                 \u001b[0;32mreturn\u001b[0m \u001b[0mself\u001b[0m\u001b[0;34m.\u001b[0m\u001b[0m_engine\u001b[0m\u001b[0;34m.\u001b[0m\u001b[0mget_loc\u001b[0m\u001b[0;34m(\u001b[0m\u001b[0mcasted_key\u001b[0m\u001b[0;34m)\u001b[0m\u001b[0;34m\u001b[0m\u001b[0;34m\u001b[0m\u001b[0m\n\u001b[0m\u001b[1;32m   3362\u001b[0m             \u001b[0;32mexcept\u001b[0m \u001b[0mKeyError\u001b[0m \u001b[0;32mas\u001b[0m \u001b[0merr\u001b[0m\u001b[0;34m:\u001b[0m\u001b[0;34m\u001b[0m\u001b[0;34m\u001b[0m\u001b[0m\n",
      "\u001b[0;32m/opt/anaconda3/envs/dev/lib/python3.7/site-packages/pandas/_libs/index.pyx\u001b[0m in \u001b[0;36mpandas._libs.index.IndexEngine.get_loc\u001b[0;34m()\u001b[0m\n",
      "\u001b[0;32m/opt/anaconda3/envs/dev/lib/python3.7/site-packages/pandas/_libs/index.pyx\u001b[0m in \u001b[0;36mpandas._libs.index.IndexEngine.get_loc\u001b[0;34m()\u001b[0m\n",
      "\u001b[0;32mpandas/_libs/hashtable_class_helper.pxi\u001b[0m in \u001b[0;36mpandas._libs.hashtable.PyObjectHashTable.get_item\u001b[0;34m()\u001b[0m\n",
      "\u001b[0;32mpandas/_libs/hashtable_class_helper.pxi\u001b[0m in \u001b[0;36mpandas._libs.hashtable.PyObjectHashTable.get_item\u001b[0;34m()\u001b[0m\n",
      "\u001b[0;31mKeyError\u001b[0m: 'open'",
      "\nThe above exception was the direct cause of the following exception:\n",
      "\u001b[0;31mKeyError\u001b[0m                                  Traceback (most recent call last)",
      "\u001b[0;32m<ipython-input-83-b4b0337bd4c7>\u001b[0m in \u001b[0;36m<module>\u001b[0;34m\u001b[0m\n\u001b[0;32m----> 1\u001b[0;31m \u001b[0mportfolio_7_years\u001b[0m\u001b[0;34m[\u001b[0m\u001b[0;34m'open'\u001b[0m\u001b[0;34m]\u001b[0m\u001b[0;34m\u001b[0m\u001b[0;34m\u001b[0m\u001b[0m\n\u001b[0m\u001b[1;32m      2\u001b[0m \u001b[0;34m\u001b[0m\u001b[0m\n\u001b[1;32m      3\u001b[0m \u001b[0;34m\u001b[0m\u001b[0m\n\u001b[1;32m      4\u001b[0m \u001b[0;31m#portfolio_7_years = portfolio_7_years['close']\u001b[0m\u001b[0;34m\u001b[0m\u001b[0;34m\u001b[0m\u001b[0;34m\u001b[0m\u001b[0m\n\u001b[1;32m      5\u001b[0m \u001b[0;31m#portfolio_7_years.pct_change().dropna()\u001b[0m\u001b[0;34m\u001b[0m\u001b[0;34m\u001b[0m\u001b[0;34m\u001b[0m\u001b[0m\n",
      "\u001b[0;32m/opt/anaconda3/envs/dev/lib/python3.7/site-packages/pandas/core/frame.py\u001b[0m in \u001b[0;36m__getitem__\u001b[0;34m(self, key)\u001b[0m\n\u001b[1;32m   3455\u001b[0m         \u001b[0;32mif\u001b[0m \u001b[0mis_single_key\u001b[0m\u001b[0;34m:\u001b[0m\u001b[0;34m\u001b[0m\u001b[0;34m\u001b[0m\u001b[0m\n\u001b[1;32m   3456\u001b[0m             \u001b[0;32mif\u001b[0m \u001b[0mself\u001b[0m\u001b[0;34m.\u001b[0m\u001b[0mcolumns\u001b[0m\u001b[0;34m.\u001b[0m\u001b[0mnlevels\u001b[0m \u001b[0;34m>\u001b[0m \u001b[0;36m1\u001b[0m\u001b[0;34m:\u001b[0m\u001b[0;34m\u001b[0m\u001b[0;34m\u001b[0m\u001b[0m\n\u001b[0;32m-> 3457\u001b[0;31m                 \u001b[0;32mreturn\u001b[0m \u001b[0mself\u001b[0m\u001b[0;34m.\u001b[0m\u001b[0m_getitem_multilevel\u001b[0m\u001b[0;34m(\u001b[0m\u001b[0mkey\u001b[0m\u001b[0;34m)\u001b[0m\u001b[0;34m\u001b[0m\u001b[0;34m\u001b[0m\u001b[0m\n\u001b[0m\u001b[1;32m   3458\u001b[0m             \u001b[0mindexer\u001b[0m \u001b[0;34m=\u001b[0m \u001b[0mself\u001b[0m\u001b[0;34m.\u001b[0m\u001b[0mcolumns\u001b[0m\u001b[0;34m.\u001b[0m\u001b[0mget_loc\u001b[0m\u001b[0;34m(\u001b[0m\u001b[0mkey\u001b[0m\u001b[0;34m)\u001b[0m\u001b[0;34m\u001b[0m\u001b[0;34m\u001b[0m\u001b[0m\n\u001b[1;32m   3459\u001b[0m             \u001b[0;32mif\u001b[0m \u001b[0mis_integer\u001b[0m\u001b[0;34m(\u001b[0m\u001b[0mindexer\u001b[0m\u001b[0;34m)\u001b[0m\u001b[0;34m:\u001b[0m\u001b[0;34m\u001b[0m\u001b[0;34m\u001b[0m\u001b[0m\n",
      "\u001b[0;32m/opt/anaconda3/envs/dev/lib/python3.7/site-packages/pandas/core/frame.py\u001b[0m in \u001b[0;36m_getitem_multilevel\u001b[0;34m(self, key)\u001b[0m\n\u001b[1;32m   3506\u001b[0m     \u001b[0;32mdef\u001b[0m \u001b[0m_getitem_multilevel\u001b[0m\u001b[0;34m(\u001b[0m\u001b[0mself\u001b[0m\u001b[0;34m,\u001b[0m \u001b[0mkey\u001b[0m\u001b[0;34m)\u001b[0m\u001b[0;34m:\u001b[0m\u001b[0;34m\u001b[0m\u001b[0;34m\u001b[0m\u001b[0m\n\u001b[1;32m   3507\u001b[0m         \u001b[0;31m# self.columns is a MultiIndex\u001b[0m\u001b[0;34m\u001b[0m\u001b[0;34m\u001b[0m\u001b[0;34m\u001b[0m\u001b[0m\n\u001b[0;32m-> 3508\u001b[0;31m         \u001b[0mloc\u001b[0m \u001b[0;34m=\u001b[0m \u001b[0mself\u001b[0m\u001b[0;34m.\u001b[0m\u001b[0mcolumns\u001b[0m\u001b[0;34m.\u001b[0m\u001b[0mget_loc\u001b[0m\u001b[0;34m(\u001b[0m\u001b[0mkey\u001b[0m\u001b[0;34m)\u001b[0m\u001b[0;34m\u001b[0m\u001b[0;34m\u001b[0m\u001b[0m\n\u001b[0m\u001b[1;32m   3509\u001b[0m         \u001b[0;32mif\u001b[0m \u001b[0misinstance\u001b[0m\u001b[0;34m(\u001b[0m\u001b[0mloc\u001b[0m\u001b[0;34m,\u001b[0m \u001b[0;34m(\u001b[0m\u001b[0mslice\u001b[0m\u001b[0;34m,\u001b[0m \u001b[0mnp\u001b[0m\u001b[0;34m.\u001b[0m\u001b[0mndarray\u001b[0m\u001b[0;34m)\u001b[0m\u001b[0;34m)\u001b[0m\u001b[0;34m:\u001b[0m\u001b[0;34m\u001b[0m\u001b[0;34m\u001b[0m\u001b[0m\n\u001b[1;32m   3510\u001b[0m             \u001b[0mnew_columns\u001b[0m \u001b[0;34m=\u001b[0m \u001b[0mself\u001b[0m\u001b[0;34m.\u001b[0m\u001b[0mcolumns\u001b[0m\u001b[0;34m[\u001b[0m\u001b[0mloc\u001b[0m\u001b[0;34m]\u001b[0m\u001b[0;34m\u001b[0m\u001b[0;34m\u001b[0m\u001b[0m\n",
      "\u001b[0;32m/opt/anaconda3/envs/dev/lib/python3.7/site-packages/pandas/core/indexes/multi.py\u001b[0m in \u001b[0;36mget_loc\u001b[0;34m(self, key, method)\u001b[0m\n\u001b[1;32m   2920\u001b[0m \u001b[0;34m\u001b[0m\u001b[0m\n\u001b[1;32m   2921\u001b[0m         \u001b[0;32mif\u001b[0m \u001b[0;32mnot\u001b[0m \u001b[0misinstance\u001b[0m\u001b[0;34m(\u001b[0m\u001b[0mkey\u001b[0m\u001b[0;34m,\u001b[0m \u001b[0mtuple\u001b[0m\u001b[0;34m)\u001b[0m\u001b[0;34m:\u001b[0m\u001b[0;34m\u001b[0m\u001b[0;34m\u001b[0m\u001b[0m\n\u001b[0;32m-> 2922\u001b[0;31m             \u001b[0mloc\u001b[0m \u001b[0;34m=\u001b[0m \u001b[0mself\u001b[0m\u001b[0;34m.\u001b[0m\u001b[0m_get_level_indexer\u001b[0m\u001b[0;34m(\u001b[0m\u001b[0mkey\u001b[0m\u001b[0;34m,\u001b[0m \u001b[0mlevel\u001b[0m\u001b[0;34m=\u001b[0m\u001b[0;36m0\u001b[0m\u001b[0;34m)\u001b[0m\u001b[0;34m\u001b[0m\u001b[0;34m\u001b[0m\u001b[0m\n\u001b[0m\u001b[1;32m   2923\u001b[0m             \u001b[0;32mreturn\u001b[0m \u001b[0m_maybe_to_slice\u001b[0m\u001b[0;34m(\u001b[0m\u001b[0mloc\u001b[0m\u001b[0;34m)\u001b[0m\u001b[0;34m\u001b[0m\u001b[0;34m\u001b[0m\u001b[0m\n\u001b[1;32m   2924\u001b[0m \u001b[0;34m\u001b[0m\u001b[0m\n",
      "\u001b[0;32m/opt/anaconda3/envs/dev/lib/python3.7/site-packages/pandas/core/indexes/multi.py\u001b[0m in \u001b[0;36m_get_level_indexer\u001b[0;34m(self, key, level, indexer)\u001b[0m\n\u001b[1;32m   3202\u001b[0m         \u001b[0;32melse\u001b[0m\u001b[0;34m:\u001b[0m\u001b[0;34m\u001b[0m\u001b[0;34m\u001b[0m\u001b[0m\n\u001b[1;32m   3203\u001b[0m \u001b[0;34m\u001b[0m\u001b[0m\n\u001b[0;32m-> 3204\u001b[0;31m             \u001b[0midx\u001b[0m \u001b[0;34m=\u001b[0m \u001b[0mself\u001b[0m\u001b[0;34m.\u001b[0m\u001b[0m_get_loc_single_level_index\u001b[0m\u001b[0;34m(\u001b[0m\u001b[0mlevel_index\u001b[0m\u001b[0;34m,\u001b[0m \u001b[0mkey\u001b[0m\u001b[0;34m)\u001b[0m\u001b[0;34m\u001b[0m\u001b[0;34m\u001b[0m\u001b[0m\n\u001b[0m\u001b[1;32m   3205\u001b[0m \u001b[0;34m\u001b[0m\u001b[0m\n\u001b[1;32m   3206\u001b[0m             \u001b[0;32mif\u001b[0m \u001b[0mlevel\u001b[0m \u001b[0;34m>\u001b[0m \u001b[0;36m0\u001b[0m \u001b[0;32mor\u001b[0m \u001b[0mself\u001b[0m\u001b[0;34m.\u001b[0m\u001b[0m_lexsort_depth\u001b[0m \u001b[0;34m==\u001b[0m \u001b[0;36m0\u001b[0m\u001b[0;34m:\u001b[0m\u001b[0;34m\u001b[0m\u001b[0;34m\u001b[0m\u001b[0m\n",
      "\u001b[0;32m/opt/anaconda3/envs/dev/lib/python3.7/site-packages/pandas/core/indexes/multi.py\u001b[0m in \u001b[0;36m_get_loc_single_level_index\u001b[0;34m(self, level_index, key)\u001b[0m\n\u001b[1;32m   2853\u001b[0m             \u001b[0;32mreturn\u001b[0m \u001b[0;34m-\u001b[0m\u001b[0;36m1\u001b[0m\u001b[0;34m\u001b[0m\u001b[0;34m\u001b[0m\u001b[0m\n\u001b[1;32m   2854\u001b[0m         \u001b[0;32melse\u001b[0m\u001b[0;34m:\u001b[0m\u001b[0;34m\u001b[0m\u001b[0;34m\u001b[0m\u001b[0m\n\u001b[0;32m-> 2855\u001b[0;31m             \u001b[0;32mreturn\u001b[0m \u001b[0mlevel_index\u001b[0m\u001b[0;34m.\u001b[0m\u001b[0mget_loc\u001b[0m\u001b[0;34m(\u001b[0m\u001b[0mkey\u001b[0m\u001b[0;34m)\u001b[0m\u001b[0;34m\u001b[0m\u001b[0;34m\u001b[0m\u001b[0m\n\u001b[0m\u001b[1;32m   2856\u001b[0m \u001b[0;34m\u001b[0m\u001b[0m\n\u001b[1;32m   2857\u001b[0m     \u001b[0;32mdef\u001b[0m \u001b[0mget_loc\u001b[0m\u001b[0;34m(\u001b[0m\u001b[0mself\u001b[0m\u001b[0;34m,\u001b[0m \u001b[0mkey\u001b[0m\u001b[0;34m,\u001b[0m \u001b[0mmethod\u001b[0m\u001b[0;34m=\u001b[0m\u001b[0;32mNone\u001b[0m\u001b[0;34m)\u001b[0m\u001b[0;34m:\u001b[0m\u001b[0;34m\u001b[0m\u001b[0;34m\u001b[0m\u001b[0m\n",
      "\u001b[0;32m/opt/anaconda3/envs/dev/lib/python3.7/site-packages/pandas/core/indexes/base.py\u001b[0m in \u001b[0;36mget_loc\u001b[0;34m(self, key, method, tolerance)\u001b[0m\n\u001b[1;32m   3361\u001b[0m                 \u001b[0;32mreturn\u001b[0m \u001b[0mself\u001b[0m\u001b[0;34m.\u001b[0m\u001b[0m_engine\u001b[0m\u001b[0;34m.\u001b[0m\u001b[0mget_loc\u001b[0m\u001b[0;34m(\u001b[0m\u001b[0mcasted_key\u001b[0m\u001b[0;34m)\u001b[0m\u001b[0;34m\u001b[0m\u001b[0;34m\u001b[0m\u001b[0m\n\u001b[1;32m   3362\u001b[0m             \u001b[0;32mexcept\u001b[0m \u001b[0mKeyError\u001b[0m \u001b[0;32mas\u001b[0m \u001b[0merr\u001b[0m\u001b[0;34m:\u001b[0m\u001b[0;34m\u001b[0m\u001b[0;34m\u001b[0m\u001b[0m\n\u001b[0;32m-> 3363\u001b[0;31m                 \u001b[0;32mraise\u001b[0m \u001b[0mKeyError\u001b[0m\u001b[0;34m(\u001b[0m\u001b[0mkey\u001b[0m\u001b[0;34m)\u001b[0m \u001b[0;32mfrom\u001b[0m \u001b[0merr\u001b[0m\u001b[0;34m\u001b[0m\u001b[0;34m\u001b[0m\u001b[0m\n\u001b[0m\u001b[1;32m   3364\u001b[0m \u001b[0;34m\u001b[0m\u001b[0m\n\u001b[1;32m   3365\u001b[0m         \u001b[0;32mif\u001b[0m \u001b[0mis_scalar\u001b[0m\u001b[0;34m(\u001b[0m\u001b[0mkey\u001b[0m\u001b[0;34m)\u001b[0m \u001b[0;32mand\u001b[0m \u001b[0misna\u001b[0m\u001b[0;34m(\u001b[0m\u001b[0mkey\u001b[0m\u001b[0;34m)\u001b[0m \u001b[0;32mand\u001b[0m \u001b[0;32mnot\u001b[0m \u001b[0mself\u001b[0m\u001b[0;34m.\u001b[0m\u001b[0mhasnans\u001b[0m\u001b[0;34m:\u001b[0m\u001b[0;34m\u001b[0m\u001b[0;34m\u001b[0m\u001b[0m\n",
      "\u001b[0;31mKeyError\u001b[0m: 'open'"
     ]
    }
   ],
   "source": []
  },
  {
   "cell_type": "code",
   "execution_count": null,
   "id": "70f36094-b152-4806-b4cd-0585fc0d4839",
   "metadata": {},
   "outputs": [],
   "source": []
  }
 ],
 "metadata": {
  "kernelspec": {
   "display_name": "Python 3",
   "language": "python",
   "name": "python3"
  },
  "language_info": {
   "codemirror_mode": {
    "name": "ipython",
    "version": 3
   },
   "file_extension": ".py",
   "mimetype": "text/x-python",
   "name": "python",
   "nbconvert_exporter": "python",
   "pygments_lexer": "ipython3",
   "version": "3.7.11"
  }
 },
 "nbformat": 4,
 "nbformat_minor": 5
}
