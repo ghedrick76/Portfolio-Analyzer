{
 "cells": [
  {
   "cell_type": "code",
   "execution_count": 1,
   "id": "dc6e0548-ba9e-4aea-9303-702ad53486fd",
   "metadata": {},
   "outputs": [],
   "source": [
    "# Imports required libraries\n",
    "import os\n",
    "import requests\n",
    "import json\n",
    "import pandas as pd\n",
    "from dotenv import load_dotenv\n",
    "import alpaca_trade_api as tradeapi\n",
    "from MCForecastTools import MCSimulation\n",
    "import hvplot\n",
    "from pathlib import Path\n",
    "\n",
    "%matplotlib inline"
   ]
  },
  {
   "cell_type": "code",
   "execution_count": 2,
   "id": "66396a9b-09b0-42fb-8a59-84b1a3733522",
   "metadata": {},
   "outputs": [
    {
     "name": "stderr",
     "output_type": "stream",
     "text": [
      "Python-dotenv could not parse statement starting at line 2\n",
      "Python-dotenv could not parse statement starting at line 4\n",
      "Python-dotenv could not parse statement starting at line 5\n",
      "Python-dotenv could not parse statement starting at line 6\n",
      "Python-dotenv could not parse statement starting at line 7\n",
      "Python-dotenv could not parse statement starting at line 8\n",
      "Python-dotenv could not parse statement starting at line 9\n",
      "Python-dotenv could not parse statement starting at line 15\n",
      "Python-dotenv could not parse statement starting at line 16\n",
      "Python-dotenv could not parse statement starting at line 17\n",
      "Python-dotenv could not parse statement starting at line 18\n",
      "Python-dotenv could not parse statement starting at line 19\n",
      "Python-dotenv could not parse statement starting at line 21\n",
      "Python-dotenv could not parse statement starting at line 22\n",
      "Python-dotenv could not parse statement starting at line 23\n",
      "Python-dotenv could not parse statement starting at line 24\n",
      "Python-dotenv could not parse statement starting at line 26\n",
      "Python-dotenv could not parse statement starting at line 27\n",
      "Python-dotenv could not parse statement starting at line 28\n",
      "Python-dotenv could not parse statement starting at line 29\n",
      "Python-dotenv could not parse statement starting at line 30\n",
      "Python-dotenv could not parse statement starting at line 31\n",
      "Python-dotenv could not parse statement starting at line 34\n",
      "Python-dotenv could not parse statement starting at line 35\n"
     ]
    },
    {
     "data": {
      "text/plain": [
       "True"
      ]
     },
     "execution_count": 2,
     "metadata": {},
     "output_type": "execute_result"
    }
   ],
   "source": [
    "load_dotenv()"
   ]
  },
  {
   "cell_type": "code",
   "execution_count": 3,
   "id": "ab979fad-97e7-47a3-849f-bfc205a5e755",
   "metadata": {},
   "outputs": [
    {
     "data": {
      "text/plain": [
       "NoneType"
      ]
     },
     "execution_count": 3,
     "metadata": {},
     "output_type": "execute_result"
    }
   ],
   "source": [
    "# Sets keys\n",
    "alpaca_api = os.getenv(\"ALPACA_API_KEY\")\n",
    "alpaca_secret = os.getenv(\"ALPACA_SECRET_KEY\")\n",
    "type(alpaca_api)\n",
    "type(alpaca_secret)\n",
    "\n"
   ]
  },
  {
   "cell_type": "code",
   "execution_count": 4,
   "id": "15bd4cc6-94e5-4f9e-8ecd-efbbae6f5214",
   "metadata": {},
   "outputs": [],
   "source": [
    "# Reads the S&P 500 data into a dataframe\n",
    "sp500 = pd.read_csv(\n",
    "    Path(\"Resources/Download Data - INDEX_US_S&P US_SPX.csv\"),\n",
    "    index_col=\"Date\",\n",
    "    parse_dates=True,\n",
    "    infer_datetime_format=True\n",
    ")"
   ]
  },
  {
   "cell_type": "code",
   "execution_count": 5,
   "id": "cbfe610a-f3f9-4631-b0ab-297c9fbdfab5",
   "metadata": {},
   "outputs": [
    {
     "data": {
      "text/html": [
       "<div>\n",
       "<style scoped>\n",
       "    .dataframe tbody tr th:only-of-type {\n",
       "        vertical-align: middle;\n",
       "    }\n",
       "\n",
       "    .dataframe tbody tr th {\n",
       "        vertical-align: top;\n",
       "    }\n",
       "\n",
       "    .dataframe thead th {\n",
       "        text-align: right;\n",
       "    }\n",
       "</style>\n",
       "<table border=\"1\" class=\"dataframe\">\n",
       "  <thead>\n",
       "    <tr style=\"text-align: right;\">\n",
       "      <th></th>\n",
       "      <th>Open</th>\n",
       "      <th>High</th>\n",
       "      <th>Low</th>\n",
       "      <th>Close</th>\n",
       "    </tr>\n",
       "    <tr>\n",
       "      <th>Date</th>\n",
       "      <th></th>\n",
       "      <th></th>\n",
       "      <th></th>\n",
       "      <th></th>\n",
       "    </tr>\n",
       "  </thead>\n",
       "  <tbody>\n",
       "    <tr>\n",
       "      <th>2022-05-10</th>\n",
       "      <td>4,035.18</td>\n",
       "      <td>4,068.82</td>\n",
       "      <td>3,958.17</td>\n",
       "      <td>4,001.05</td>\n",
       "    </tr>\n",
       "    <tr>\n",
       "      <th>2022-05-09</th>\n",
       "      <td>4,081.27</td>\n",
       "      <td>4,081.27</td>\n",
       "      <td>3,975.48</td>\n",
       "      <td>3,991.24</td>\n",
       "    </tr>\n",
       "    <tr>\n",
       "      <th>2022-05-06</th>\n",
       "      <td>4,128.17</td>\n",
       "      <td>4,157.69</td>\n",
       "      <td>4,067.91</td>\n",
       "      <td>4,123.34</td>\n",
       "    </tr>\n",
       "    <tr>\n",
       "      <th>2022-05-05</th>\n",
       "      <td>4,270.43</td>\n",
       "      <td>4,270.43</td>\n",
       "      <td>4,106.01</td>\n",
       "      <td>4,146.87</td>\n",
       "    </tr>\n",
       "    <tr>\n",
       "      <th>2022-05-04</th>\n",
       "      <td>4,181.18</td>\n",
       "      <td>4,307.66</td>\n",
       "      <td>4,148.91</td>\n",
       "      <td>4,300.17</td>\n",
       "    </tr>\n",
       "  </tbody>\n",
       "</table>\n",
       "</div>"
      ],
      "text/plain": [
       "                Open      High       Low     Close\n",
       "Date                                              \n",
       "2022-05-10  4,035.18  4,068.82  3,958.17  4,001.05\n",
       "2022-05-09  4,081.27  4,081.27  3,975.48  3,991.24\n",
       "2022-05-06  4,128.17  4,157.69  4,067.91  4,123.34\n",
       "2022-05-05  4,270.43  4,270.43  4,106.01  4,146.87\n",
       "2022-05-04  4,181.18  4,307.66  4,148.91  4,300.17"
      ]
     },
     "metadata": {},
     "output_type": "display_data"
    },
    {
     "data": {
      "text/html": [
       "<div>\n",
       "<style scoped>\n",
       "    .dataframe tbody tr th:only-of-type {\n",
       "        vertical-align: middle;\n",
       "    }\n",
       "\n",
       "    .dataframe tbody tr th {\n",
       "        vertical-align: top;\n",
       "    }\n",
       "\n",
       "    .dataframe thead th {\n",
       "        text-align: right;\n",
       "    }\n",
       "</style>\n",
       "<table border=\"1\" class=\"dataframe\">\n",
       "  <thead>\n",
       "    <tr style=\"text-align: right;\">\n",
       "      <th></th>\n",
       "      <th>Open</th>\n",
       "      <th>High</th>\n",
       "      <th>Low</th>\n",
       "      <th>Close</th>\n",
       "    </tr>\n",
       "    <tr>\n",
       "      <th>Date</th>\n",
       "      <th></th>\n",
       "      <th></th>\n",
       "      <th></th>\n",
       "      <th></th>\n",
       "    </tr>\n",
       "  </thead>\n",
       "  <tbody>\n",
       "    <tr>\n",
       "      <th>2021-05-14</th>\n",
       "      <td>4,129.58</td>\n",
       "      <td>4,183.13</td>\n",
       "      <td>4,129.58</td>\n",
       "      <td>4,173.85</td>\n",
       "    </tr>\n",
       "    <tr>\n",
       "      <th>2021-05-13</th>\n",
       "      <td>4,074.99</td>\n",
       "      <td>4,131.58</td>\n",
       "      <td>4,074.99</td>\n",
       "      <td>4,112.50</td>\n",
       "    </tr>\n",
       "    <tr>\n",
       "      <th>2021-05-12</th>\n",
       "      <td>4,130.55</td>\n",
       "      <td>4,134.73</td>\n",
       "      <td>4,056.88</td>\n",
       "      <td>4,063.04</td>\n",
       "    </tr>\n",
       "    <tr>\n",
       "      <th>2021-05-11</th>\n",
       "      <td>4,150.34</td>\n",
       "      <td>4,162.04</td>\n",
       "      <td>4,111.53</td>\n",
       "      <td>4,152.10</td>\n",
       "    </tr>\n",
       "    <tr>\n",
       "      <th>2021-05-10</th>\n",
       "      <td>4,228.29</td>\n",
       "      <td>4,236.39</td>\n",
       "      <td>4,188.13</td>\n",
       "      <td>4,188.43</td>\n",
       "    </tr>\n",
       "  </tbody>\n",
       "</table>\n",
       "</div>"
      ],
      "text/plain": [
       "                Open      High       Low     Close\n",
       "Date                                              \n",
       "2021-05-14  4,129.58  4,183.13  4,129.58  4,173.85\n",
       "2021-05-13  4,074.99  4,131.58  4,074.99  4,112.50\n",
       "2021-05-12  4,130.55  4,134.73  4,056.88  4,063.04\n",
       "2021-05-11  4,150.34  4,162.04  4,111.53  4,152.10\n",
       "2021-05-10  4,228.29  4,236.39  4,188.13  4,188.43"
      ]
     },
     "metadata": {},
     "output_type": "display_data"
    }
   ],
   "source": [
    "# Displays the data\n",
    "display(sp500.head())\n",
    "display(sp500.tail())"
   ]
  },
  {
   "cell_type": "code",
   "execution_count": 6,
   "id": "9b65c532-fcb2-4966-bc75-ac94fd711763",
   "metadata": {},
   "outputs": [
    {
     "data": {
      "text/plain": [
       "Open     0\n",
       "High     0\n",
       "Low      0\n",
       "Close    0\n",
       "dtype: int64"
      ]
     },
     "execution_count": 6,
     "metadata": {},
     "output_type": "execute_result"
    }
   ],
   "source": [
    "# Checks for null values in the data\n",
    "sp500.isnull().sum()"
   ]
  },
  {
   "cell_type": "code",
   "execution_count": 7,
   "id": "1cfdac7c-b85f-4ef1-adf7-3cfd0341d328",
   "metadata": {},
   "outputs": [
    {
     "data": {
      "text/html": [
       "<div>\n",
       "<style scoped>\n",
       "    .dataframe tbody tr th:only-of-type {\n",
       "        vertical-align: middle;\n",
       "    }\n",
       "\n",
       "    .dataframe tbody tr th {\n",
       "        vertical-align: top;\n",
       "    }\n",
       "\n",
       "    .dataframe thead th {\n",
       "        text-align: right;\n",
       "    }\n",
       "</style>\n",
       "<table border=\"1\" class=\"dataframe\">\n",
       "  <thead>\n",
       "    <tr style=\"text-align: right;\">\n",
       "      <th></th>\n",
       "      <th>Open</th>\n",
       "      <th>High</th>\n",
       "      <th>Low</th>\n",
       "      <th>Close</th>\n",
       "    </tr>\n",
       "    <tr>\n",
       "      <th>Date</th>\n",
       "      <th></th>\n",
       "      <th></th>\n",
       "      <th></th>\n",
       "      <th></th>\n",
       "    </tr>\n",
       "  </thead>\n",
       "  <tbody>\n",
       "    <tr>\n",
       "      <th>2022-05-10</th>\n",
       "      <td>4035.18</td>\n",
       "      <td>4068.82</td>\n",
       "      <td>3958.17</td>\n",
       "      <td>4001.05</td>\n",
       "    </tr>\n",
       "    <tr>\n",
       "      <th>2022-05-09</th>\n",
       "      <td>4081.27</td>\n",
       "      <td>4081.27</td>\n",
       "      <td>3975.48</td>\n",
       "      <td>3991.24</td>\n",
       "    </tr>\n",
       "    <tr>\n",
       "      <th>2022-05-06</th>\n",
       "      <td>4128.17</td>\n",
       "      <td>4157.69</td>\n",
       "      <td>4067.91</td>\n",
       "      <td>4123.34</td>\n",
       "    </tr>\n",
       "    <tr>\n",
       "      <th>2022-05-05</th>\n",
       "      <td>4270.43</td>\n",
       "      <td>4270.43</td>\n",
       "      <td>4106.01</td>\n",
       "      <td>4146.87</td>\n",
       "    </tr>\n",
       "    <tr>\n",
       "      <th>2022-05-04</th>\n",
       "      <td>4181.18</td>\n",
       "      <td>4307.66</td>\n",
       "      <td>4148.91</td>\n",
       "      <td>4300.17</td>\n",
       "    </tr>\n",
       "  </tbody>\n",
       "</table>\n",
       "</div>"
      ],
      "text/plain": [
       "               Open     High      Low    Close\n",
       "Date                                          \n",
       "2022-05-10  4035.18  4068.82  3958.17  4001.05\n",
       "2022-05-09  4081.27  4081.27  3975.48  3991.24\n",
       "2022-05-06  4128.17  4157.69  4067.91  4123.34\n",
       "2022-05-05  4270.43  4270.43  4106.01  4146.87\n",
       "2022-05-04  4181.18  4307.66  4148.91  4300.17"
      ]
     },
     "execution_count": 7,
     "metadata": {},
     "output_type": "execute_result"
    }
   ],
   "source": [
    "# Cleans and prepares the data for the dataframe\n",
    "sp500.loc[:, 'Open'] = sp500.loc[:, 'Open'].str.replace(\",\", \"\")\n",
    "sp500.loc[:, 'High'] = sp500.loc[:, 'High'].str.replace(\",\", \"\")\n",
    "sp500.loc[:, 'Low'] = sp500.loc[:, 'Low'].str.replace(\",\", \"\")\n",
    "sp500.loc[:, 'Close'] = sp500.loc[:, 'Close'].str.replace(\",\", \"\")\n",
    "\n",
    "# Confirms cleaning of data\n",
    "sp500.head()"
   ]
  },
  {
   "cell_type": "code",
   "execution_count": 8,
   "id": "97adbab0-33fd-47a7-a69c-0abba7527b8b",
   "metadata": {},
   "outputs": [
    {
     "data": {
      "text/plain": [
       "Open     float64\n",
       "High     float64\n",
       "Low      float64\n",
       "Close    float64\n",
       "dtype: object"
      ]
     },
     "execution_count": 8,
     "metadata": {},
     "output_type": "execute_result"
    }
   ],
   "source": [
    "# Changes all data types to float\n",
    "sp500.loc[:, 'Open'] = sp500.loc[:, 'Open'].astype('float')\n",
    "sp500.loc[:, 'High'] = sp500.loc[:, 'High'].astype('float')\n",
    "sp500.loc[:, 'Low'] = sp500.loc[:, 'Low'].astype('float')\n",
    "sp500.loc[:, 'Close'] = sp500.loc[:, 'Close'].astype('float')\n",
    "\n",
    "# Confirms data type conversion\n",
    "sp500.dtypes"
   ]
  },
  {
   "cell_type": "code",
   "execution_count": null,
   "id": "4d650242-3a81-4222-8889-33c5963ee2dc",
   "metadata": {},
   "outputs": [],
   "source": []
  }
 ],
 "metadata": {
  "kernelspec": {
   "display_name": "Python 3",
   "language": "python",
   "name": "python3"
  },
  "language_info": {
   "codemirror_mode": {
    "name": "ipython",
    "version": 3
   },
   "file_extension": ".py",
   "mimetype": "text/x-python",
   "name": "python",
   "nbconvert_exporter": "python",
   "pygments_lexer": "ipython3",
   "version": "3.7.11"
  }
 },
 "nbformat": 4,
 "nbformat_minor": 5
}
